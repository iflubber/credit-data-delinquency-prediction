{
 "cells": [
  {
   "cell_type": "markdown",
   "metadata": {},
   "source": [
    "## Features:\n",
    "#### SeriousDlqin2yrs -\t                    Person experienced 90 days past due delinquency or worse (Y/N)\n",
    "#### RevolvingUtilizationOfUnsecuredLines -\tTotal balance on credit cards and personal lines of credit except real estate and no installment debt like car loans divided by the sum of credit limits\t                              \n",
    "#### age -\t                                    Age of borrower in years\t                                        \n",
    "#### NumberOfTime30-59DaysPastDueNotWorse -\tNumber of times borrower has been 30-59 days past due but no worse in the last 2 years.\t                                                                                                   \n",
    "#### DebtRatio -\t                            Monthly debt payments, alimony,living costs divided by monthy gross income\t                                            \n",
    "#### MonthlyIncome -\t                        Monthly income\t                                                    \n",
    "#### NumberOfOpenCreditLinesAndLoans -\t        Number of Open loans (installment like car loan or mortgage) and Lines of credit (e.g. credit cards)\t                                                                              \n",
    "#### NumberOfTimes90DaysLate -\t                Number of times borrower has been 90 days or more past due.\t        \n",
    "#### NumberRealEstateLoansOrLines -\t        Number of mortgage and real estate loans including home equity lines of credit\t                          \n",
    "#### NumberOfTime60-89DaysPastDueNotWorse -\tNumber of times borrower has been 60-89 days past due but no worse in the last 2 years.\t    \n",
    "#### NumberOfDependents -\t                    Number of dependents in family excluding themselves (spouse, children etc.)\t            "
   ]
  },
  {
   "cell_type": "code",
   "execution_count": 148,
   "metadata": {},
   "outputs": [],
   "source": [
    "import pandas as pd\n",
    "import numpy as np\n",
    "import matplotlib.pyplot as plt\n",
    "%matplotlib inline\n",
    "plt.rc(\"font\", size=14)\n",
    "import seaborn as sns\n",
    "sns.set(style=\"white\")\n",
    "sns.set(style=\"whitegrid\", color_codes=True)\n",
    "from scipy import stats\n",
    "from sklearn import preprocessing\n",
    "from sklearn.linear_model import LogisticRegression\n",
    "#from sklearn.cross_validation import train_test_split"
   ]
  },
  {
   "cell_type": "code",
   "execution_count": 149,
   "metadata": {},
   "outputs": [],
   "source": [
    "# Load the data\n",
    "cs_train = pd.read_csv( 'cs-training.csv' )"
   ]
  },
  {
   "cell_type": "markdown",
   "metadata": {},
   "source": [
    "# EDA (Exploratory Data Analysis)"
   ]
  },
  {
   "cell_type": "code",
   "execution_count": 150,
   "metadata": {},
   "outputs": [
    {
     "data": {
      "text/plain": [
       "(150000, 12)"
      ]
     },
     "execution_count": 150,
     "metadata": {},
     "output_type": "execute_result"
    }
   ],
   "source": [
    "cs_train.shape"
   ]
  },
  {
   "cell_type": "code",
   "execution_count": 151,
   "metadata": {},
   "outputs": [
    {
     "data": {
      "text/plain": [
       "Index(['Unnamed: 0', 'SeriousDlqin2yrs',\n",
       "       'RevolvingUtilizationOfUnsecuredLines', 'age',\n",
       "       'NumberOfTime30-59DaysPastDueNotWorse', 'DebtRatio', 'MonthlyIncome',\n",
       "       'NumberOfOpenCreditLinesAndLoans', 'NumberOfTimes90DaysLate',\n",
       "       'NumberRealEstateLoansOrLines', 'NumberOfTime60-89DaysPastDueNotWorse',\n",
       "       'NumberOfDependents'],\n",
       "      dtype='object')"
      ]
     },
     "execution_count": 151,
     "metadata": {},
     "output_type": "execute_result"
    }
   ],
   "source": [
    "cs_train.columns"
   ]
  },
  {
   "cell_type": "code",
   "execution_count": 152,
   "metadata": {},
   "outputs": [
    {
     "data": {
      "text/html": [
       "<div>\n",
       "<style scoped>\n",
       "    .dataframe tbody tr th:only-of-type {\n",
       "        vertical-align: middle;\n",
       "    }\n",
       "\n",
       "    .dataframe tbody tr th {\n",
       "        vertical-align: top;\n",
       "    }\n",
       "\n",
       "    .dataframe thead th {\n",
       "        text-align: right;\n",
       "    }\n",
       "</style>\n",
       "<table border=\"1\" class=\"dataframe\">\n",
       "  <thead>\n",
       "    <tr style=\"text-align: right;\">\n",
       "      <th></th>\n",
       "      <th>Unnamed: 0</th>\n",
       "      <th>SeriousDlqin2yrs</th>\n",
       "      <th>RevolvingUtilizationOfUnsecuredLines</th>\n",
       "      <th>age</th>\n",
       "      <th>NumberOfTime30-59DaysPastDueNotWorse</th>\n",
       "      <th>DebtRatio</th>\n",
       "      <th>MonthlyIncome</th>\n",
       "      <th>NumberOfOpenCreditLinesAndLoans</th>\n",
       "      <th>NumberOfTimes90DaysLate</th>\n",
       "      <th>NumberRealEstateLoansOrLines</th>\n",
       "      <th>NumberOfTime60-89DaysPastDueNotWorse</th>\n",
       "      <th>NumberOfDependents</th>\n",
       "    </tr>\n",
       "  </thead>\n",
       "  <tbody>\n",
       "    <tr>\n",
       "      <th>0</th>\n",
       "      <td>1</td>\n",
       "      <td>1</td>\n",
       "      <td>0.766127</td>\n",
       "      <td>45</td>\n",
       "      <td>2</td>\n",
       "      <td>0.802982</td>\n",
       "      <td>9120.0</td>\n",
       "      <td>13</td>\n",
       "      <td>0</td>\n",
       "      <td>6</td>\n",
       "      <td>0</td>\n",
       "      <td>2.0</td>\n",
       "    </tr>\n",
       "    <tr>\n",
       "      <th>1</th>\n",
       "      <td>2</td>\n",
       "      <td>0</td>\n",
       "      <td>0.957151</td>\n",
       "      <td>40</td>\n",
       "      <td>0</td>\n",
       "      <td>0.121876</td>\n",
       "      <td>2600.0</td>\n",
       "      <td>4</td>\n",
       "      <td>0</td>\n",
       "      <td>0</td>\n",
       "      <td>0</td>\n",
       "      <td>1.0</td>\n",
       "    </tr>\n",
       "    <tr>\n",
       "      <th>2</th>\n",
       "      <td>3</td>\n",
       "      <td>0</td>\n",
       "      <td>0.658180</td>\n",
       "      <td>38</td>\n",
       "      <td>1</td>\n",
       "      <td>0.085113</td>\n",
       "      <td>3042.0</td>\n",
       "      <td>2</td>\n",
       "      <td>1</td>\n",
       "      <td>0</td>\n",
       "      <td>0</td>\n",
       "      <td>0.0</td>\n",
       "    </tr>\n",
       "    <tr>\n",
       "      <th>3</th>\n",
       "      <td>4</td>\n",
       "      <td>0</td>\n",
       "      <td>0.233810</td>\n",
       "      <td>30</td>\n",
       "      <td>0</td>\n",
       "      <td>0.036050</td>\n",
       "      <td>3300.0</td>\n",
       "      <td>5</td>\n",
       "      <td>0</td>\n",
       "      <td>0</td>\n",
       "      <td>0</td>\n",
       "      <td>0.0</td>\n",
       "    </tr>\n",
       "    <tr>\n",
       "      <th>4</th>\n",
       "      <td>5</td>\n",
       "      <td>0</td>\n",
       "      <td>0.907239</td>\n",
       "      <td>49</td>\n",
       "      <td>1</td>\n",
       "      <td>0.024926</td>\n",
       "      <td>63588.0</td>\n",
       "      <td>7</td>\n",
       "      <td>0</td>\n",
       "      <td>1</td>\n",
       "      <td>0</td>\n",
       "      <td>0.0</td>\n",
       "    </tr>\n",
       "  </tbody>\n",
       "</table>\n",
       "</div>"
      ],
      "text/plain": [
       "   Unnamed: 0  SeriousDlqin2yrs  RevolvingUtilizationOfUnsecuredLines  age  \\\n",
       "0           1                 1                              0.766127   45   \n",
       "1           2                 0                              0.957151   40   \n",
       "2           3                 0                              0.658180   38   \n",
       "3           4                 0                              0.233810   30   \n",
       "4           5                 0                              0.907239   49   \n",
       "\n",
       "   NumberOfTime30-59DaysPastDueNotWorse  DebtRatio  MonthlyIncome  \\\n",
       "0                                     2   0.802982         9120.0   \n",
       "1                                     0   0.121876         2600.0   \n",
       "2                                     1   0.085113         3042.0   \n",
       "3                                     0   0.036050         3300.0   \n",
       "4                                     1   0.024926        63588.0   \n",
       "\n",
       "   NumberOfOpenCreditLinesAndLoans  NumberOfTimes90DaysLate  \\\n",
       "0                               13                        0   \n",
       "1                                4                        0   \n",
       "2                                2                        1   \n",
       "3                                5                        0   \n",
       "4                                7                        0   \n",
       "\n",
       "   NumberRealEstateLoansOrLines  NumberOfTime60-89DaysPastDueNotWorse  \\\n",
       "0                             6                                     0   \n",
       "1                             0                                     0   \n",
       "2                             0                                     0   \n",
       "3                             0                                     0   \n",
       "4                             1                                     0   \n",
       "\n",
       "   NumberOfDependents  \n",
       "0                 2.0  \n",
       "1                 1.0  \n",
       "2                 0.0  \n",
       "3                 0.0  \n",
       "4                 0.0  "
      ]
     },
     "execution_count": 152,
     "metadata": {},
     "output_type": "execute_result"
    }
   ],
   "source": [
    "cs_train.head()"
   ]
  },
  {
   "cell_type": "code",
   "execution_count": 153,
   "metadata": {},
   "outputs": [],
   "source": [
    "# drop the serial number column\n",
    "cs_train=cs_train.drop(columns=['Unnamed: 0'])"
   ]
  },
  {
   "cell_type": "code",
   "execution_count": 154,
   "metadata": {},
   "outputs": [
    {
     "name": "stdout",
     "output_type": "stream",
     "text": [
      "<class 'pandas.core.frame.DataFrame'>\n",
      "RangeIndex: 150000 entries, 0 to 149999\n",
      "Data columns (total 11 columns):\n",
      "SeriousDlqin2yrs                        150000 non-null int64\n",
      "RevolvingUtilizationOfUnsecuredLines    150000 non-null float64\n",
      "age                                     150000 non-null int64\n",
      "NumberOfTime30-59DaysPastDueNotWorse    150000 non-null int64\n",
      "DebtRatio                               150000 non-null float64\n",
      "MonthlyIncome                           120269 non-null float64\n",
      "NumberOfOpenCreditLinesAndLoans         150000 non-null int64\n",
      "NumberOfTimes90DaysLate                 150000 non-null int64\n",
      "NumberRealEstateLoansOrLines            150000 non-null int64\n",
      "NumberOfTime60-89DaysPastDueNotWorse    150000 non-null int64\n",
      "NumberOfDependents                      146076 non-null float64\n",
      "dtypes: float64(4), int64(7)\n",
      "memory usage: 12.6 MB\n"
     ]
    }
   ],
   "source": [
    "cs_train.info()"
   ]
  },
  {
   "cell_type": "code",
   "execution_count": 155,
   "metadata": {
    "scrolled": true
   },
   "outputs": [
    {
     "data": {
      "text/html": [
       "<div>\n",
       "<style scoped>\n",
       "    .dataframe tbody tr th:only-of-type {\n",
       "        vertical-align: middle;\n",
       "    }\n",
       "\n",
       "    .dataframe tbody tr th {\n",
       "        vertical-align: top;\n",
       "    }\n",
       "\n",
       "    .dataframe thead th {\n",
       "        text-align: right;\n",
       "    }\n",
       "</style>\n",
       "<table border=\"1\" class=\"dataframe\">\n",
       "  <thead>\n",
       "    <tr style=\"text-align: right;\">\n",
       "      <th></th>\n",
       "      <th>SeriousDlqin2yrs</th>\n",
       "      <th>RevolvingUtilizationOfUnsecuredLines</th>\n",
       "      <th>age</th>\n",
       "      <th>NumberOfTime30-59DaysPastDueNotWorse</th>\n",
       "      <th>DebtRatio</th>\n",
       "      <th>MonthlyIncome</th>\n",
       "      <th>NumberOfOpenCreditLinesAndLoans</th>\n",
       "      <th>NumberOfTimes90DaysLate</th>\n",
       "      <th>NumberRealEstateLoansOrLines</th>\n",
       "      <th>NumberOfTime60-89DaysPastDueNotWorse</th>\n",
       "      <th>NumberOfDependents</th>\n",
       "    </tr>\n",
       "  </thead>\n",
       "  <tbody>\n",
       "    <tr>\n",
       "      <th>count</th>\n",
       "      <td>150000.000000</td>\n",
       "      <td>150000.000000</td>\n",
       "      <td>150000.000000</td>\n",
       "      <td>150000.000000</td>\n",
       "      <td>150000.000000</td>\n",
       "      <td>1.202690e+05</td>\n",
       "      <td>150000.000000</td>\n",
       "      <td>150000.000000</td>\n",
       "      <td>150000.000000</td>\n",
       "      <td>150000.000000</td>\n",
       "      <td>146076.000000</td>\n",
       "    </tr>\n",
       "    <tr>\n",
       "      <th>mean</th>\n",
       "      <td>0.066840</td>\n",
       "      <td>6.048438</td>\n",
       "      <td>52.295207</td>\n",
       "      <td>0.421033</td>\n",
       "      <td>353.005076</td>\n",
       "      <td>6.670221e+03</td>\n",
       "      <td>8.452760</td>\n",
       "      <td>0.265973</td>\n",
       "      <td>1.018240</td>\n",
       "      <td>0.240387</td>\n",
       "      <td>0.757222</td>\n",
       "    </tr>\n",
       "    <tr>\n",
       "      <th>std</th>\n",
       "      <td>0.249746</td>\n",
       "      <td>249.755371</td>\n",
       "      <td>14.771866</td>\n",
       "      <td>4.192781</td>\n",
       "      <td>2037.818523</td>\n",
       "      <td>1.438467e+04</td>\n",
       "      <td>5.145951</td>\n",
       "      <td>4.169304</td>\n",
       "      <td>1.129771</td>\n",
       "      <td>4.155179</td>\n",
       "      <td>1.115086</td>\n",
       "    </tr>\n",
       "    <tr>\n",
       "      <th>min</th>\n",
       "      <td>0.000000</td>\n",
       "      <td>0.000000</td>\n",
       "      <td>0.000000</td>\n",
       "      <td>0.000000</td>\n",
       "      <td>0.000000</td>\n",
       "      <td>0.000000e+00</td>\n",
       "      <td>0.000000</td>\n",
       "      <td>0.000000</td>\n",
       "      <td>0.000000</td>\n",
       "      <td>0.000000</td>\n",
       "      <td>0.000000</td>\n",
       "    </tr>\n",
       "    <tr>\n",
       "      <th>25%</th>\n",
       "      <td>0.000000</td>\n",
       "      <td>0.029867</td>\n",
       "      <td>41.000000</td>\n",
       "      <td>0.000000</td>\n",
       "      <td>0.175074</td>\n",
       "      <td>3.400000e+03</td>\n",
       "      <td>5.000000</td>\n",
       "      <td>0.000000</td>\n",
       "      <td>0.000000</td>\n",
       "      <td>0.000000</td>\n",
       "      <td>0.000000</td>\n",
       "    </tr>\n",
       "    <tr>\n",
       "      <th>50%</th>\n",
       "      <td>0.000000</td>\n",
       "      <td>0.154181</td>\n",
       "      <td>52.000000</td>\n",
       "      <td>0.000000</td>\n",
       "      <td>0.366508</td>\n",
       "      <td>5.400000e+03</td>\n",
       "      <td>8.000000</td>\n",
       "      <td>0.000000</td>\n",
       "      <td>1.000000</td>\n",
       "      <td>0.000000</td>\n",
       "      <td>0.000000</td>\n",
       "    </tr>\n",
       "    <tr>\n",
       "      <th>75%</th>\n",
       "      <td>0.000000</td>\n",
       "      <td>0.559046</td>\n",
       "      <td>63.000000</td>\n",
       "      <td>0.000000</td>\n",
       "      <td>0.868254</td>\n",
       "      <td>8.249000e+03</td>\n",
       "      <td>11.000000</td>\n",
       "      <td>0.000000</td>\n",
       "      <td>2.000000</td>\n",
       "      <td>0.000000</td>\n",
       "      <td>1.000000</td>\n",
       "    </tr>\n",
       "    <tr>\n",
       "      <th>max</th>\n",
       "      <td>1.000000</td>\n",
       "      <td>50708.000000</td>\n",
       "      <td>109.000000</td>\n",
       "      <td>98.000000</td>\n",
       "      <td>329664.000000</td>\n",
       "      <td>3.008750e+06</td>\n",
       "      <td>58.000000</td>\n",
       "      <td>98.000000</td>\n",
       "      <td>54.000000</td>\n",
       "      <td>98.000000</td>\n",
       "      <td>20.000000</td>\n",
       "    </tr>\n",
       "  </tbody>\n",
       "</table>\n",
       "</div>"
      ],
      "text/plain": [
       "       SeriousDlqin2yrs  RevolvingUtilizationOfUnsecuredLines            age  \\\n",
       "count     150000.000000                         150000.000000  150000.000000   \n",
       "mean           0.066840                              6.048438      52.295207   \n",
       "std            0.249746                            249.755371      14.771866   \n",
       "min            0.000000                              0.000000       0.000000   \n",
       "25%            0.000000                              0.029867      41.000000   \n",
       "50%            0.000000                              0.154181      52.000000   \n",
       "75%            0.000000                              0.559046      63.000000   \n",
       "max            1.000000                          50708.000000     109.000000   \n",
       "\n",
       "       NumberOfTime30-59DaysPastDueNotWorse      DebtRatio  MonthlyIncome  \\\n",
       "count                         150000.000000  150000.000000   1.202690e+05   \n",
       "mean                               0.421033     353.005076   6.670221e+03   \n",
       "std                                4.192781    2037.818523   1.438467e+04   \n",
       "min                                0.000000       0.000000   0.000000e+00   \n",
       "25%                                0.000000       0.175074   3.400000e+03   \n",
       "50%                                0.000000       0.366508   5.400000e+03   \n",
       "75%                                0.000000       0.868254   8.249000e+03   \n",
       "max                               98.000000  329664.000000   3.008750e+06   \n",
       "\n",
       "       NumberOfOpenCreditLinesAndLoans  NumberOfTimes90DaysLate  \\\n",
       "count                    150000.000000            150000.000000   \n",
       "mean                          8.452760                 0.265973   \n",
       "std                           5.145951                 4.169304   \n",
       "min                           0.000000                 0.000000   \n",
       "25%                           5.000000                 0.000000   \n",
       "50%                           8.000000                 0.000000   \n",
       "75%                          11.000000                 0.000000   \n",
       "max                          58.000000                98.000000   \n",
       "\n",
       "       NumberRealEstateLoansOrLines  NumberOfTime60-89DaysPastDueNotWorse  \\\n",
       "count                 150000.000000                         150000.000000   \n",
       "mean                       1.018240                              0.240387   \n",
       "std                        1.129771                              4.155179   \n",
       "min                        0.000000                              0.000000   \n",
       "25%                        0.000000                              0.000000   \n",
       "50%                        1.000000                              0.000000   \n",
       "75%                        2.000000                              0.000000   \n",
       "max                       54.000000                             98.000000   \n",
       "\n",
       "       NumberOfDependents  \n",
       "count       146076.000000  \n",
       "mean             0.757222  \n",
       "std              1.115086  \n",
       "min              0.000000  \n",
       "25%              0.000000  \n",
       "50%              0.000000  \n",
       "75%              1.000000  \n",
       "max             20.000000  "
      ]
     },
     "execution_count": 155,
     "metadata": {},
     "output_type": "execute_result"
    }
   ],
   "source": [
    "cs_train.describe()"
   ]
  },
  {
   "cell_type": "code",
   "execution_count": 156,
   "metadata": {},
   "outputs": [
    {
     "data": {
      "text/html": [
       "<div>\n",
       "<style scoped>\n",
       "    .dataframe tbody tr th:only-of-type {\n",
       "        vertical-align: middle;\n",
       "    }\n",
       "\n",
       "    .dataframe tbody tr th {\n",
       "        vertical-align: top;\n",
       "    }\n",
       "\n",
       "    .dataframe thead th {\n",
       "        text-align: right;\n",
       "    }\n",
       "</style>\n",
       "<table border=\"1\" class=\"dataframe\">\n",
       "  <thead>\n",
       "    <tr style=\"text-align: right;\">\n",
       "      <th></th>\n",
       "      <th>count</th>\n",
       "      <th>mean</th>\n",
       "      <th>std</th>\n",
       "      <th>min</th>\n",
       "      <th>25%</th>\n",
       "      <th>50%</th>\n",
       "      <th>75%</th>\n",
       "      <th>max</th>\n",
       "    </tr>\n",
       "  </thead>\n",
       "  <tbody>\n",
       "    <tr>\n",
       "      <th>SeriousDlqin2yrs</th>\n",
       "      <td>150000.0</td>\n",
       "      <td>0.066840</td>\n",
       "      <td>0.249746</td>\n",
       "      <td>0.0</td>\n",
       "      <td>0.000000</td>\n",
       "      <td>0.000000</td>\n",
       "      <td>0.000000</td>\n",
       "      <td>1.0</td>\n",
       "    </tr>\n",
       "    <tr>\n",
       "      <th>RevolvingUtilizationOfUnsecuredLines</th>\n",
       "      <td>150000.0</td>\n",
       "      <td>6.048438</td>\n",
       "      <td>249.755371</td>\n",
       "      <td>0.0</td>\n",
       "      <td>0.029867</td>\n",
       "      <td>0.154181</td>\n",
       "      <td>0.559046</td>\n",
       "      <td>50708.0</td>\n",
       "    </tr>\n",
       "    <tr>\n",
       "      <th>age</th>\n",
       "      <td>150000.0</td>\n",
       "      <td>52.295207</td>\n",
       "      <td>14.771866</td>\n",
       "      <td>0.0</td>\n",
       "      <td>41.000000</td>\n",
       "      <td>52.000000</td>\n",
       "      <td>63.000000</td>\n",
       "      <td>109.0</td>\n",
       "    </tr>\n",
       "    <tr>\n",
       "      <th>NumberOfTime30-59DaysPastDueNotWorse</th>\n",
       "      <td>150000.0</td>\n",
       "      <td>0.421033</td>\n",
       "      <td>4.192781</td>\n",
       "      <td>0.0</td>\n",
       "      <td>0.000000</td>\n",
       "      <td>0.000000</td>\n",
       "      <td>0.000000</td>\n",
       "      <td>98.0</td>\n",
       "    </tr>\n",
       "    <tr>\n",
       "      <th>DebtRatio</th>\n",
       "      <td>150000.0</td>\n",
       "      <td>353.005076</td>\n",
       "      <td>2037.818523</td>\n",
       "      <td>0.0</td>\n",
       "      <td>0.175074</td>\n",
       "      <td>0.366508</td>\n",
       "      <td>0.868254</td>\n",
       "      <td>329664.0</td>\n",
       "    </tr>\n",
       "    <tr>\n",
       "      <th>MonthlyIncome</th>\n",
       "      <td>120269.0</td>\n",
       "      <td>6670.221237</td>\n",
       "      <td>14384.674215</td>\n",
       "      <td>0.0</td>\n",
       "      <td>3400.000000</td>\n",
       "      <td>5400.000000</td>\n",
       "      <td>8249.000000</td>\n",
       "      <td>3008750.0</td>\n",
       "    </tr>\n",
       "    <tr>\n",
       "      <th>NumberOfOpenCreditLinesAndLoans</th>\n",
       "      <td>150000.0</td>\n",
       "      <td>8.452760</td>\n",
       "      <td>5.145951</td>\n",
       "      <td>0.0</td>\n",
       "      <td>5.000000</td>\n",
       "      <td>8.000000</td>\n",
       "      <td>11.000000</td>\n",
       "      <td>58.0</td>\n",
       "    </tr>\n",
       "    <tr>\n",
       "      <th>NumberOfTimes90DaysLate</th>\n",
       "      <td>150000.0</td>\n",
       "      <td>0.265973</td>\n",
       "      <td>4.169304</td>\n",
       "      <td>0.0</td>\n",
       "      <td>0.000000</td>\n",
       "      <td>0.000000</td>\n",
       "      <td>0.000000</td>\n",
       "      <td>98.0</td>\n",
       "    </tr>\n",
       "    <tr>\n",
       "      <th>NumberRealEstateLoansOrLines</th>\n",
       "      <td>150000.0</td>\n",
       "      <td>1.018240</td>\n",
       "      <td>1.129771</td>\n",
       "      <td>0.0</td>\n",
       "      <td>0.000000</td>\n",
       "      <td>1.000000</td>\n",
       "      <td>2.000000</td>\n",
       "      <td>54.0</td>\n",
       "    </tr>\n",
       "    <tr>\n",
       "      <th>NumberOfTime60-89DaysPastDueNotWorse</th>\n",
       "      <td>150000.0</td>\n",
       "      <td>0.240387</td>\n",
       "      <td>4.155179</td>\n",
       "      <td>0.0</td>\n",
       "      <td>0.000000</td>\n",
       "      <td>0.000000</td>\n",
       "      <td>0.000000</td>\n",
       "      <td>98.0</td>\n",
       "    </tr>\n",
       "    <tr>\n",
       "      <th>NumberOfDependents</th>\n",
       "      <td>146076.0</td>\n",
       "      <td>0.757222</td>\n",
       "      <td>1.115086</td>\n",
       "      <td>0.0</td>\n",
       "      <td>0.000000</td>\n",
       "      <td>0.000000</td>\n",
       "      <td>1.000000</td>\n",
       "      <td>20.0</td>\n",
       "    </tr>\n",
       "  </tbody>\n",
       "</table>\n",
       "</div>"
      ],
      "text/plain": [
       "                                         count         mean           std  \\\n",
       "SeriousDlqin2yrs                      150000.0     0.066840      0.249746   \n",
       "RevolvingUtilizationOfUnsecuredLines  150000.0     6.048438    249.755371   \n",
       "age                                   150000.0    52.295207     14.771866   \n",
       "NumberOfTime30-59DaysPastDueNotWorse  150000.0     0.421033      4.192781   \n",
       "DebtRatio                             150000.0   353.005076   2037.818523   \n",
       "MonthlyIncome                         120269.0  6670.221237  14384.674215   \n",
       "NumberOfOpenCreditLinesAndLoans       150000.0     8.452760      5.145951   \n",
       "NumberOfTimes90DaysLate               150000.0     0.265973      4.169304   \n",
       "NumberRealEstateLoansOrLines          150000.0     1.018240      1.129771   \n",
       "NumberOfTime60-89DaysPastDueNotWorse  150000.0     0.240387      4.155179   \n",
       "NumberOfDependents                    146076.0     0.757222      1.115086   \n",
       "\n",
       "                                      min          25%          50%  \\\n",
       "SeriousDlqin2yrs                      0.0     0.000000     0.000000   \n",
       "RevolvingUtilizationOfUnsecuredLines  0.0     0.029867     0.154181   \n",
       "age                                   0.0    41.000000    52.000000   \n",
       "NumberOfTime30-59DaysPastDueNotWorse  0.0     0.000000     0.000000   \n",
       "DebtRatio                             0.0     0.175074     0.366508   \n",
       "MonthlyIncome                         0.0  3400.000000  5400.000000   \n",
       "NumberOfOpenCreditLinesAndLoans       0.0     5.000000     8.000000   \n",
       "NumberOfTimes90DaysLate               0.0     0.000000     0.000000   \n",
       "NumberRealEstateLoansOrLines          0.0     0.000000     1.000000   \n",
       "NumberOfTime60-89DaysPastDueNotWorse  0.0     0.000000     0.000000   \n",
       "NumberOfDependents                    0.0     0.000000     0.000000   \n",
       "\n",
       "                                              75%        max  \n",
       "SeriousDlqin2yrs                         0.000000        1.0  \n",
       "RevolvingUtilizationOfUnsecuredLines     0.559046    50708.0  \n",
       "age                                     63.000000      109.0  \n",
       "NumberOfTime30-59DaysPastDueNotWorse     0.000000       98.0  \n",
       "DebtRatio                                0.868254   329664.0  \n",
       "MonthlyIncome                         8249.000000  3008750.0  \n",
       "NumberOfOpenCreditLinesAndLoans         11.000000       58.0  \n",
       "NumberOfTimes90DaysLate                  0.000000       98.0  \n",
       "NumberRealEstateLoansOrLines             2.000000       54.0  \n",
       "NumberOfTime60-89DaysPastDueNotWorse     0.000000       98.0  \n",
       "NumberOfDependents                       1.000000       20.0  "
      ]
     },
     "execution_count": 156,
     "metadata": {},
     "output_type": "execute_result"
    }
   ],
   "source": [
    "cs_train.describe().T"
   ]
  },
  {
   "cell_type": "code",
   "execution_count": 157,
   "metadata": {},
   "outputs": [
    {
     "data": {
      "text/plain": [
       "2"
      ]
     },
     "execution_count": 157,
     "metadata": {},
     "output_type": "execute_result"
    }
   ],
   "source": [
    "# check for missing values\n",
    "cs_train.isnull().any().sum()"
   ]
  },
  {
   "cell_type": "code",
   "execution_count": 158,
   "metadata": {},
   "outputs": [
    {
     "data": {
      "text/plain": [
       "SeriousDlqin2yrs                            0\n",
       "RevolvingUtilizationOfUnsecuredLines        0\n",
       "age                                         0\n",
       "NumberOfTime30-59DaysPastDueNotWorse        0\n",
       "DebtRatio                                   0\n",
       "MonthlyIncome                           29731\n",
       "NumberOfOpenCreditLinesAndLoans             0\n",
       "NumberOfTimes90DaysLate                     0\n",
       "NumberRealEstateLoansOrLines                0\n",
       "NumberOfTime60-89DaysPastDueNotWorse        0\n",
       "NumberOfDependents                       3924\n",
       "dtype: int64"
      ]
     },
     "execution_count": 158,
     "metadata": {},
     "output_type": "execute_result"
    }
   ],
   "source": [
    "cs_train.isnull().sum()"
   ]
  },
  {
   "cell_type": "code",
   "execution_count": 159,
   "metadata": {},
   "outputs": [],
   "source": [
    "# impute missing values\n",
    "cs_train.fillna(cs_train.mean(), inplace=True)"
   ]
  },
  {
   "cell_type": "code",
   "execution_count": 160,
   "metadata": {},
   "outputs": [
    {
     "data": {
      "text/plain": [
       "0    139974\n",
       "1     10026\n",
       "Name: SeriousDlqin2yrs, dtype: int64"
      ]
     },
     "execution_count": 160,
     "metadata": {},
     "output_type": "execute_result"
    }
   ],
   "source": [
    "cs_train.SeriousDlqin2yrs.value_counts()"
   ]
  },
  {
   "cell_type": "code",
   "execution_count": 161,
   "metadata": {},
   "outputs": [
    {
     "data": {
      "text/plain": [
       "<matplotlib.axes._subplots.AxesSubplot at 0x1117f4160>"
      ]
     },
     "execution_count": 161,
     "metadata": {},
     "output_type": "execute_result"
    },
    {
     "data": {
      "image/png": "[encoded data removed]",
      "text/plain": [
       "<matplotlib.figure.Figure at 0x1c2ac7d630>"
      ]
     },
     "metadata": {},
     "output_type": "display_data"
    }
   ],
   "source": [
    "delinquents = pd.DataFrame(cs_train.SeriousDlqin2yrs.value_counts())\n",
    "sns.barplot(delinquents.index,delinquents.SeriousDlqin2yrs)"
   ]
  },
  {
   "cell_type": "code",
   "execution_count": 162,
   "metadata": {},
   "outputs": [
    {
     "data": {
      "text/plain": [
       "<matplotlib.axes._subplots.AxesSubplot at 0x1117fa6d8>"
      ]
     },
     "execution_count": 162,
     "metadata": {},
     "output_type": "execute_result"
    },
    {
     "data": {
      "image/png": "[encoded data removed]",
      "text/plain": [
       "<matplotlib.figure.Figure at 0x1a214819b0>"
      ]
     },
     "metadata": {},
     "output_type": "display_data"
    }
   ],
   "source": [
    "sns.countplot(x='SeriousDlqin2yrs',data=cs_train,palette='hls')"
   ]
  },
  {
   "cell_type": "markdown",
   "metadata": {},
   "source": [
    "6.684% have experienced 90 days past due delinquency or worse"
   ]
  },
  {
   "cell_type": "code",
   "execution_count": 163,
   "metadata": {},
   "outputs": [
    {
     "data": {
      "text/html": [
       "<div>\n",
       "<style scoped>\n",
       "    .dataframe tbody tr th:only-of-type {\n",
       "        vertical-align: middle;\n",
       "    }\n",
       "\n",
       "    .dataframe tbody tr th {\n",
       "        vertical-align: top;\n",
       "    }\n",
       "\n",
       "    .dataframe thead th {\n",
       "        text-align: right;\n",
       "    }\n",
       "</style>\n",
       "<table border=\"1\" class=\"dataframe\">\n",
       "  <thead>\n",
       "    <tr style=\"text-align: right;\">\n",
       "      <th></th>\n",
       "      <th>RevolvingUtilizationOfUnsecuredLines</th>\n",
       "      <th>age</th>\n",
       "      <th>NumberOfTime30-59DaysPastDueNotWorse</th>\n",
       "      <th>DebtRatio</th>\n",
       "      <th>MonthlyIncome</th>\n",
       "      <th>NumberOfOpenCreditLinesAndLoans</th>\n",
       "      <th>NumberOfTimes90DaysLate</th>\n",
       "      <th>NumberRealEstateLoansOrLines</th>\n",
       "      <th>NumberOfTime60-89DaysPastDueNotWorse</th>\n",
       "      <th>NumberOfDependents</th>\n",
       "    </tr>\n",
       "    <tr>\n",
       "      <th>SeriousDlqin2yrs</th>\n",
       "      <th></th>\n",
       "      <th></th>\n",
       "      <th></th>\n",
       "      <th></th>\n",
       "      <th></th>\n",
       "      <th></th>\n",
       "      <th></th>\n",
       "      <th></th>\n",
       "      <th></th>\n",
       "      <th></th>\n",
       "    </tr>\n",
       "  </thead>\n",
       "  <tbody>\n",
       "    <tr>\n",
       "      <th>0</th>\n",
       "      <td>6.168855</td>\n",
       "      <td>52.751375</td>\n",
       "      <td>0.280109</td>\n",
       "      <td>357.151168</td>\n",
       "      <td>6732.277204</td>\n",
       "      <td>8.493620</td>\n",
       "      <td>0.135225</td>\n",
       "      <td>1.020368</td>\n",
       "      <td>0.126666</td>\n",
       "      <td>0.743787</td>\n",
       "    </tr>\n",
       "    <tr>\n",
       "      <th>1</th>\n",
       "      <td>4.367282</td>\n",
       "      <td>45.926591</td>\n",
       "      <td>2.388490</td>\n",
       "      <td>295.121066</td>\n",
       "      <td>5803.851610</td>\n",
       "      <td>7.882306</td>\n",
       "      <td>2.091362</td>\n",
       "      <td>0.988530</td>\n",
       "      <td>1.828047</td>\n",
       "      <td>0.944798</td>\n",
       "    </tr>\n",
       "  </tbody>\n",
       "</table>\n",
       "</div>"
      ],
      "text/plain": [
       "                  RevolvingUtilizationOfUnsecuredLines        age  \\\n",
       "SeriousDlqin2yrs                                                    \n",
       "0                                             6.168855  52.751375   \n",
       "1                                             4.367282  45.926591   \n",
       "\n",
       "                  NumberOfTime30-59DaysPastDueNotWorse   DebtRatio  \\\n",
       "SeriousDlqin2yrs                                                     \n",
       "0                                             0.280109  357.151168   \n",
       "1                                             2.388490  295.121066   \n",
       "\n",
       "                  MonthlyIncome  NumberOfOpenCreditLinesAndLoans  \\\n",
       "SeriousDlqin2yrs                                                   \n",
       "0                   6732.277204                         8.493620   \n",
       "1                   5803.851610                         7.882306   \n",
       "\n",
       "                  NumberOfTimes90DaysLate  NumberRealEstateLoansOrLines  \\\n",
       "SeriousDlqin2yrs                                                          \n",
       "0                                0.135225                      1.020368   \n",
       "1                                2.091362                      0.988530   \n",
       "\n",
       "                  NumberOfTime60-89DaysPastDueNotWorse  NumberOfDependents  \n",
       "SeriousDlqin2yrs                                                            \n",
       "0                                             0.126666            0.743787  \n",
       "1                                             1.828047            0.944798  "
      ]
     },
     "execution_count": 163,
     "metadata": {},
     "output_type": "execute_result"
    }
   ],
   "source": [
    "cs_train.groupby('SeriousDlqin2yrs').mean()"
   ]
  },
  {
   "cell_type": "code",
   "execution_count": 164,
   "metadata": {},
   "outputs": [
    {
     "data": {
      "text/plain": [
       "array([<matplotlib.axes._subplots.AxesSubplot object at 0x1117de080>,\n",
       "       <matplotlib.axes._subplots.AxesSubplot object at 0x1a236c1dd8>],\n",
       "      dtype=object)"
      ]
     },
     "execution_count": 164,
     "metadata": {},
     "output_type": "execute_result"
    },
    {
     "data": {
      "image/png": "[encoded data removed]",
      "text/plain": [
       "<matplotlib.figure.Figure at 0x1117ff7b8>"
      ]
     },
     "metadata": {},
     "output_type": "display_data"
    }
   ],
   "source": [
    "# Feature 1: RevolvingUtilizationOfUnsecuredLines\n",
    "cs_train.hist(column='RevolvingUtilizationOfUnsecuredLines',by='SeriousDlqin2yrs',bins=10)"
   ]
  },
  {
   "cell_type": "markdown",
   "metadata": {},
   "source": [
    "This shows that 'Revolving Utilization of Unsecured Lines' is not a big deciding factor on its own as there is no appreciable difference between the people who have experienced serious delinquency and who haven't."
   ]
  },
  {
   "cell_type": "code",
   "execution_count": 165,
   "metadata": {},
   "outputs": [
    {
     "data": {
      "text/plain": [
       "<seaborn.axisgrid.FacetGrid at 0x1a214a95f8>"
      ]
     },
     "execution_count": 165,
     "metadata": {},
     "output_type": "execute_result"
    },
    {
     "data": {
      "image/png": "[encoded data removed]",
      "text/plain": [
       "<matplotlib.figure.Figure at 0x1a2369ca20>"
      ]
     },
     "metadata": {},
     "output_type": "display_data"
    }
   ],
   "source": [
    "# another way of confirming the same\n",
    "delinquency_by_rev = cs_train[['RevolvingUtilizationOfUnsecuredLines', 'SeriousDlqin2yrs']].groupby(['RevolvingUtilizationOfUnsecuredLines', 'SeriousDlqin2yrs']).size().reset_index()\n",
    "delinquency_by_rev.columns = ['RevolvingUtilizationOfUnsecuredLines', 'SeriousDlqin2yrs', 'count']\n",
    "sns.lmplot(x = 'RevolvingUtilizationOfUnsecuredLines', y = 'count', data = delinquency_by_rev, hue = \"SeriousDlqin2yrs\", \n",
    "           palette=\"Set1\", fit_reg = False)"
   ]
  },
  {
   "cell_type": "code",
   "execution_count": 166,
   "metadata": {},
   "outputs": [
    {
     "data": {
      "text/plain": [
       "array([<matplotlib.axes._subplots.AxesSubplot object at 0x1a23ebf748>,\n",
       "       <matplotlib.axes._subplots.AxesSubplot object at 0x1c2a0b9390>],\n",
       "      dtype=object)"
      ]
     },
     "execution_count": 166,
     "metadata": {},
     "output_type": "execute_result"
    },
    {
     "data": {
      "image/png": "[encoded data removed]",
      "text/plain": [
       "<matplotlib.figure.Figure at 0x1a23a59f60>"
      ]
     },
     "metadata": {},
     "output_type": "display_data"
    }
   ],
   "source": [
    "# Feature 2: age\n",
    "cs_train.hist(column='age',by='SeriousDlqin2yrs',bins=50)"
   ]
  },
  {
   "cell_type": "markdown",
   "metadata": {},
   "source": [
    "The Serious Delinquency depends a great deal on the age. Thus, age can be a good predictor of the outcome variable."
   ]
  },
  {
   "cell_type": "code",
   "execution_count": 167,
   "metadata": {},
   "outputs": [
    {
     "data": {
      "text/plain": [
       "Text(0,0.5,'Frequency')"
      ]
     },
     "execution_count": 167,
     "metadata": {},
     "output_type": "execute_result"
    },
    {
     "data": {
      "image/png": "[encoded data removed]",
      "text/plain": [
       "<matplotlib.figure.Figure at 0x1a253b47f0>"
      ]
     },
     "metadata": {},
     "output_type": "display_data"
    }
   ],
   "source": [
    "cs_train.age.hist()\n",
    "plt.title('Histogram of Age')\n",
    "plt.xlabel('Age')\n",
    "plt.ylabel('Frequency')"
   ]
  },
  {
   "cell_type": "code",
   "execution_count": 168,
   "metadata": {},
   "outputs": [
    {
     "data": {
      "text/plain": [
       "<seaborn.axisgrid.FacetGrid at 0x1c2ac6f908>"
      ]
     },
     "execution_count": 168,
     "metadata": {},
     "output_type": "execute_result"
    },
    {
     "data": {
      "image/png": "[encoded data removed]",
      "text/plain": [
       "<matplotlib.figure.Figure at 0x1c2ac72400>"
      ]
     },
     "metadata": {},
     "output_type": "display_data"
    }
   ],
   "source": [
    "delinquency_by_age = cs_train[['age', 'SeriousDlqin2yrs']].groupby(['age', 'SeriousDlqin2yrs']).size().reset_index()\n",
    "delinquency_by_age.columns = ['age', 'SeriousDlqin2yrs', 'count']\n",
    "sns.lmplot(x = 'age', y = 'count', data = delinquency_by_age, hue = \"SeriousDlqin2yrs\", \n",
    "           palette=\"Set1\", fit_reg = False)"
   ]
  },
  {
   "cell_type": "code",
   "execution_count": 169,
   "metadata": {},
   "outputs": [
    {
     "data": {
      "text/html": [
       "<div>\n",
       "<style scoped>\n",
       "    .dataframe tbody tr th:only-of-type {\n",
       "        vertical-align: middle;\n",
       "    }\n",
       "\n",
       "    .dataframe tbody tr th {\n",
       "        vertical-align: top;\n",
       "    }\n",
       "\n",
       "    .dataframe thead th {\n",
       "        text-align: right;\n",
       "    }\n",
       "</style>\n",
       "<table border=\"1\" class=\"dataframe\">\n",
       "  <thead>\n",
       "    <tr style=\"text-align: right;\">\n",
       "      <th></th>\n",
       "      <th>count</th>\n",
       "      <th>mean</th>\n",
       "      <th>std</th>\n",
       "      <th>min</th>\n",
       "      <th>25%</th>\n",
       "      <th>50%</th>\n",
       "      <th>75%</th>\n",
       "      <th>max</th>\n",
       "    </tr>\n",
       "  </thead>\n",
       "  <tbody>\n",
       "    <tr>\n",
       "      <th>age</th>\n",
       "      <td>76.0</td>\n",
       "      <td>58.657895</td>\n",
       "      <td>22.358028</td>\n",
       "      <td>21.0</td>\n",
       "      <td>39.75</td>\n",
       "      <td>58.5</td>\n",
       "      <td>77.25</td>\n",
       "      <td>101.0</td>\n",
       "    </tr>\n",
       "    <tr>\n",
       "      <th>SeriousDlqin2yrs</th>\n",
       "      <td>76.0</td>\n",
       "      <td>1.000000</td>\n",
       "      <td>0.000000</td>\n",
       "      <td>1.0</td>\n",
       "      <td>1.00</td>\n",
       "      <td>1.0</td>\n",
       "      <td>1.00</td>\n",
       "      <td>1.0</td>\n",
       "    </tr>\n",
       "    <tr>\n",
       "      <th>count</th>\n",
       "      <td>76.0</td>\n",
       "      <td>131.921053</td>\n",
       "      <td>109.342247</td>\n",
       "      <td>1.0</td>\n",
       "      <td>21.25</td>\n",
       "      <td>128.5</td>\n",
       "      <td>235.50</td>\n",
       "      <td>324.0</td>\n",
       "    </tr>\n",
       "  </tbody>\n",
       "</table>\n",
       "</div>"
      ],
      "text/plain": [
       "                  count        mean         std   min    25%    50%     75%  \\\n",
       "age                76.0   58.657895   22.358028  21.0  39.75   58.5   77.25   \n",
       "SeriousDlqin2yrs   76.0    1.000000    0.000000   1.0   1.00    1.0    1.00   \n",
       "count              76.0  131.921053  109.342247   1.0  21.25  128.5  235.50   \n",
       "\n",
       "                    max  \n",
       "age               101.0  \n",
       "SeriousDlqin2yrs    1.0  \n",
       "count             324.0  "
      ]
     },
     "execution_count": 169,
     "metadata": {},
     "output_type": "execute_result"
    }
   ],
   "source": [
    "delinquents=delinquency_by_age[(delinquency_by_age.SeriousDlqin2yrs==1)].sort_values(by='count', ascending=False)\n",
    "delinquents.describe().T"
   ]
  },
  {
   "cell_type": "code",
   "execution_count": 170,
   "metadata": {},
   "outputs": [
    {
     "data": {
      "text/html": [
       "<div>\n",
       "<style scoped>\n",
       "    .dataframe tbody tr th:only-of-type {\n",
       "        vertical-align: middle;\n",
       "    }\n",
       "\n",
       "    .dataframe tbody tr th {\n",
       "        vertical-align: top;\n",
       "    }\n",
       "\n",
       "    .dataframe thead th {\n",
       "        text-align: right;\n",
       "    }\n",
       "</style>\n",
       "<table border=\"1\" class=\"dataframe\">\n",
       "  <thead>\n",
       "    <tr style=\"text-align: right;\">\n",
       "      <th></th>\n",
       "      <th>SeriousDlqin2yrs</th>\n",
       "      <th>RevolvingUtilizationOfUnsecuredLines</th>\n",
       "      <th>NumberOfTime30-59DaysPastDueNotWorse</th>\n",
       "      <th>DebtRatio</th>\n",
       "      <th>MonthlyIncome</th>\n",
       "      <th>NumberOfOpenCreditLinesAndLoans</th>\n",
       "      <th>NumberOfTimes90DaysLate</th>\n",
       "      <th>NumberRealEstateLoansOrLines</th>\n",
       "      <th>NumberOfTime60-89DaysPastDueNotWorse</th>\n",
       "      <th>NumberOfDependents</th>\n",
       "    </tr>\n",
       "    <tr>\n",
       "      <th>age</th>\n",
       "      <th></th>\n",
       "      <th></th>\n",
       "      <th></th>\n",
       "      <th></th>\n",
       "      <th></th>\n",
       "      <th></th>\n",
       "      <th></th>\n",
       "      <th></th>\n",
       "      <th></th>\n",
       "      <th></th>\n",
       "    </tr>\n",
       "  </thead>\n",
       "  <tbody>\n",
       "    <tr>\n",
       "      <th>0</th>\n",
       "      <td>0.000000</td>\n",
       "      <td>1.000000</td>\n",
       "      <td>1.000000</td>\n",
       "      <td>0.436927</td>\n",
       "      <td>6000.000000</td>\n",
       "      <td>6.000000</td>\n",
       "      <td>0.000000</td>\n",
       "      <td>2.000000</td>\n",
       "      <td>0.000000</td>\n",
       "      <td>2.000000</td>\n",
       "    </tr>\n",
       "    <tr>\n",
       "      <th>21</th>\n",
       "      <td>0.071038</td>\n",
       "      <td>0.644440</td>\n",
       "      <td>11.814208</td>\n",
       "      <td>34.961721</td>\n",
       "      <td>2733.211615</td>\n",
       "      <td>1.251366</td>\n",
       "      <td>11.792350</td>\n",
       "      <td>0.032787</td>\n",
       "      <td>11.792350</td>\n",
       "      <td>0.155595</td>\n",
       "    </tr>\n",
       "    <tr>\n",
       "      <th>22</th>\n",
       "      <td>0.082949</td>\n",
       "      <td>0.596622</td>\n",
       "      <td>5.718894</td>\n",
       "      <td>27.833068</td>\n",
       "      <td>2608.793157</td>\n",
       "      <td>1.824885</td>\n",
       "      <td>5.677419</td>\n",
       "      <td>0.004608</td>\n",
       "      <td>5.663594</td>\n",
       "      <td>0.105471</td>\n",
       "    </tr>\n",
       "    <tr>\n",
       "      <th>23</th>\n",
       "      <td>0.109204</td>\n",
       "      <td>0.572803</td>\n",
       "      <td>2.251170</td>\n",
       "      <td>23.057826</td>\n",
       "      <td>2699.484986</td>\n",
       "      <td>2.268331</td>\n",
       "      <td>2.229329</td>\n",
       "      <td>0.004680</td>\n",
       "      <td>2.185647</td>\n",
       "      <td>0.155699</td>\n",
       "    </tr>\n",
       "    <tr>\n",
       "      <th>24</th>\n",
       "      <td>0.120098</td>\n",
       "      <td>1.298309</td>\n",
       "      <td>2.333333</td>\n",
       "      <td>47.577035</td>\n",
       "      <td>2987.936621</td>\n",
       "      <td>2.997549</td>\n",
       "      <td>2.296569</td>\n",
       "      <td>0.026961</td>\n",
       "      <td>2.238971</td>\n",
       "      <td>0.173290</td>\n",
       "    </tr>\n",
       "    <tr>\n",
       "      <th>25</th>\n",
       "      <td>0.126967</td>\n",
       "      <td>0.748182</td>\n",
       "      <td>1.939140</td>\n",
       "      <td>60.692332</td>\n",
       "      <td>3207.007884</td>\n",
       "      <td>3.865687</td>\n",
       "      <td>1.904512</td>\n",
       "      <td>0.034627</td>\n",
       "      <td>1.858342</td>\n",
       "      <td>0.243775</td>\n",
       "    </tr>\n",
       "    <tr>\n",
       "      <th>26</th>\n",
       "      <td>0.123219</td>\n",
       "      <td>4.428287</td>\n",
       "      <td>1.048617</td>\n",
       "      <td>79.419637</td>\n",
       "      <td>3464.295091</td>\n",
       "      <td>4.455993</td>\n",
       "      <td>0.979883</td>\n",
       "      <td>0.108131</td>\n",
       "      <td>0.932104</td>\n",
       "      <td>0.278353</td>\n",
       "    </tr>\n",
       "    <tr>\n",
       "      <th>27</th>\n",
       "      <td>0.124066</td>\n",
       "      <td>5.893830</td>\n",
       "      <td>1.340807</td>\n",
       "      <td>103.405992</td>\n",
       "      <td>3789.928178</td>\n",
       "      <td>5.030643</td>\n",
       "      <td>1.246637</td>\n",
       "      <td>0.186099</td>\n",
       "      <td>1.183857</td>\n",
       "      <td>0.338120</td>\n",
       "    </tr>\n",
       "    <tr>\n",
       "      <th>28</th>\n",
       "      <td>0.131410</td>\n",
       "      <td>6.284146</td>\n",
       "      <td>1.043590</td>\n",
       "      <td>98.827569</td>\n",
       "      <td>4019.762616</td>\n",
       "      <td>5.346154</td>\n",
       "      <td>0.944872</td>\n",
       "      <td>0.259615</td>\n",
       "      <td>0.865385</td>\n",
       "      <td>0.410442</td>\n",
       "    </tr>\n",
       "    <tr>\n",
       "      <th>29</th>\n",
       "      <td>0.105170</td>\n",
       "      <td>7.723782</td>\n",
       "      <td>0.836075</td>\n",
       "      <td>146.061571</td>\n",
       "      <td>4310.503390</td>\n",
       "      <td>5.776733</td>\n",
       "      <td>0.740893</td>\n",
       "      <td>0.384841</td>\n",
       "      <td>0.665687</td>\n",
       "      <td>0.469760</td>\n",
       "    </tr>\n",
       "    <tr>\n",
       "      <th>30</th>\n",
       "      <td>0.107899</td>\n",
       "      <td>0.939752</td>\n",
       "      <td>0.631905</td>\n",
       "      <td>141.914249</td>\n",
       "      <td>4586.873611</td>\n",
       "      <td>6.096541</td>\n",
       "      <td>0.512648</td>\n",
       "      <td>0.475478</td>\n",
       "      <td>0.450181</td>\n",
       "      <td>0.512923</td>\n",
       "    </tr>\n",
       "    <tr>\n",
       "      <th>31</th>\n",
       "      <td>0.106477</td>\n",
       "      <td>7.730251</td>\n",
       "      <td>0.541217</td>\n",
       "      <td>147.602712</td>\n",
       "      <td>4925.788722</td>\n",
       "      <td>6.641806</td>\n",
       "      <td>0.424436</td>\n",
       "      <td>0.606477</td>\n",
       "      <td>0.386654</td>\n",
       "      <td>0.596496</td>\n",
       "    </tr>\n",
       "    <tr>\n",
       "      <th>32</th>\n",
       "      <td>0.113659</td>\n",
       "      <td>2.586568</td>\n",
       "      <td>0.340000</td>\n",
       "      <td>145.524477</td>\n",
       "      <td>4942.901670</td>\n",
       "      <td>6.734146</td>\n",
       "      <td>0.228780</td>\n",
       "      <td>0.655610</td>\n",
       "      <td>0.158049</td>\n",
       "      <td>0.729116</td>\n",
       "    </tr>\n",
       "    <tr>\n",
       "      <th>33</th>\n",
       "      <td>0.109870</td>\n",
       "      <td>6.251194</td>\n",
       "      <td>0.619473</td>\n",
       "      <td>214.115720</td>\n",
       "      <td>5453.155600</td>\n",
       "      <td>7.103618</td>\n",
       "      <td>0.511836</td>\n",
       "      <td>0.826262</td>\n",
       "      <td>0.437695</td>\n",
       "      <td>0.792938</td>\n",
       "    </tr>\n",
       "    <tr>\n",
       "      <th>34</th>\n",
       "      <td>0.097448</td>\n",
       "      <td>11.525299</td>\n",
       "      <td>0.590719</td>\n",
       "      <td>209.529632</td>\n",
       "      <td>5576.404973</td>\n",
       "      <td>7.075638</td>\n",
       "      <td>0.474710</td>\n",
       "      <td>0.793968</td>\n",
       "      <td>0.404640</td>\n",
       "      <td>0.876673</td>\n",
       "    </tr>\n",
       "    <tr>\n",
       "      <th>35</th>\n",
       "      <td>0.107302</td>\n",
       "      <td>10.751041</td>\n",
       "      <td>0.461264</td>\n",
       "      <td>248.868184</td>\n",
       "      <td>5896.826318</td>\n",
       "      <td>7.350846</td>\n",
       "      <td>0.319679</td>\n",
       "      <td>0.934550</td>\n",
       "      <td>0.269813</td>\n",
       "      <td>0.948456</td>\n",
       "    </tr>\n",
       "    <tr>\n",
       "      <th>36</th>\n",
       "      <td>0.099622</td>\n",
       "      <td>7.066083</td>\n",
       "      <td>0.345523</td>\n",
       "      <td>248.188436</td>\n",
       "      <td>5880.283085</td>\n",
       "      <td>7.526272</td>\n",
       "      <td>0.195040</td>\n",
       "      <td>0.930643</td>\n",
       "      <td>0.141656</td>\n",
       "      <td>0.992963</td>\n",
       "    </tr>\n",
       "    <tr>\n",
       "      <th>37</th>\n",
       "      <td>0.090044</td>\n",
       "      <td>4.279796</td>\n",
       "      <td>0.410551</td>\n",
       "      <td>358.151620</td>\n",
       "      <td>6154.811396</td>\n",
       "      <td>7.637049</td>\n",
       "      <td>0.230464</td>\n",
       "      <td>1.019833</td>\n",
       "      <td>0.209441</td>\n",
       "      <td>1.124645</td>\n",
       "    </tr>\n",
       "    <tr>\n",
       "      <th>38</th>\n",
       "      <td>0.089320</td>\n",
       "      <td>26.736554</td>\n",
       "      <td>0.308248</td>\n",
       "      <td>289.381922</td>\n",
       "      <td>6222.537344</td>\n",
       "      <td>7.624857</td>\n",
       "      <td>0.168757</td>\n",
       "      <td>1.013303</td>\n",
       "      <td>0.120487</td>\n",
       "      <td>1.165424</td>\n",
       "    </tr>\n",
       "    <tr>\n",
       "      <th>39</th>\n",
       "      <td>0.093740</td>\n",
       "      <td>9.854877</td>\n",
       "      <td>0.500167</td>\n",
       "      <td>300.241559</td>\n",
       "      <td>6414.919029</td>\n",
       "      <td>8.029461</td>\n",
       "      <td>0.316036</td>\n",
       "      <td>1.080683</td>\n",
       "      <td>0.276197</td>\n",
       "      <td>1.245283</td>\n",
       "    </tr>\n",
       "    <tr>\n",
       "      <th>40</th>\n",
       "      <td>0.085354</td>\n",
       "      <td>9.014254</td>\n",
       "      <td>0.410281</td>\n",
       "      <td>329.538788</td>\n",
       "      <td>6503.958007</td>\n",
       "      <td>7.737472</td>\n",
       "      <td>0.225671</td>\n",
       "      <td>1.087941</td>\n",
       "      <td>0.177174</td>\n",
       "      <td>1.287018</td>\n",
       "    </tr>\n",
       "    <tr>\n",
       "      <th>41</th>\n",
       "      <td>0.094170</td>\n",
       "      <td>3.588489</td>\n",
       "      <td>0.390775</td>\n",
       "      <td>339.079599</td>\n",
       "      <td>6687.213713</td>\n",
       "      <td>8.036195</td>\n",
       "      <td>0.189622</td>\n",
       "      <td>1.146060</td>\n",
       "      <td>0.162076</td>\n",
       "      <td>1.309802</td>\n",
       "    </tr>\n",
       "    <tr>\n",
       "      <th>42</th>\n",
       "      <td>0.093770</td>\n",
       "      <td>9.656814</td>\n",
       "      <td>0.442894</td>\n",
       "      <td>349.251837</td>\n",
       "      <td>6767.235021</td>\n",
       "      <td>8.152498</td>\n",
       "      <td>0.272550</td>\n",
       "      <td>1.154445</td>\n",
       "      <td>0.231019</td>\n",
       "      <td>1.346751</td>\n",
       "    </tr>\n",
       "    <tr>\n",
       "      <th>43</th>\n",
       "      <td>0.086035</td>\n",
       "      <td>12.729724</td>\n",
       "      <td>0.444202</td>\n",
       "      <td>343.350720</td>\n",
       "      <td>7057.404335</td>\n",
       "      <td>8.369389</td>\n",
       "      <td>0.257170</td>\n",
       "      <td>1.200436</td>\n",
       "      <td>0.225998</td>\n",
       "      <td>1.350815</td>\n",
       "    </tr>\n",
       "    <tr>\n",
       "      <th>44</th>\n",
       "      <td>0.073467</td>\n",
       "      <td>4.155812</td>\n",
       "      <td>0.463570</td>\n",
       "      <td>338.843018</td>\n",
       "      <td>8142.793827</td>\n",
       "      <td>8.265634</td>\n",
       "      <td>0.267760</td>\n",
       "      <td>1.221008</td>\n",
       "      <td>0.224651</td>\n",
       "      <td>1.349771</td>\n",
       "    </tr>\n",
       "    <tr>\n",
       "      <th>45</th>\n",
       "      <td>0.081097</td>\n",
       "      <td>18.429801</td>\n",
       "      <td>0.388064</td>\n",
       "      <td>352.927449</td>\n",
       "      <td>7092.407173</td>\n",
       "      <td>8.535408</td>\n",
       "      <td>0.185894</td>\n",
       "      <td>1.189606</td>\n",
       "      <td>0.171616</td>\n",
       "      <td>1.308176</td>\n",
       "    </tr>\n",
       "    <tr>\n",
       "      <th>46</th>\n",
       "      <td>0.087237</td>\n",
       "      <td>6.613468</td>\n",
       "      <td>0.388530</td>\n",
       "      <td>375.395637</td>\n",
       "      <td>7039.826085</td>\n",
       "      <td>8.595315</td>\n",
       "      <td>0.182283</td>\n",
       "      <td>1.225094</td>\n",
       "      <td>0.152935</td>\n",
       "      <td>1.329265</td>\n",
       "    </tr>\n",
       "    <tr>\n",
       "      <th>47</th>\n",
       "      <td>0.082280</td>\n",
       "      <td>5.632571</td>\n",
       "      <td>0.398225</td>\n",
       "      <td>404.548652</td>\n",
       "      <td>7259.161717</td>\n",
       "      <td>8.894058</td>\n",
       "      <td>0.184458</td>\n",
       "      <td>1.280452</td>\n",
       "      <td>0.162678</td>\n",
       "      <td>1.293183</td>\n",
       "    </tr>\n",
       "    <tr>\n",
       "      <th>48</th>\n",
       "      <td>0.075145</td>\n",
       "      <td>3.545005</td>\n",
       "      <td>0.405675</td>\n",
       "      <td>429.730786</td>\n",
       "      <td>7140.169536</td>\n",
       "      <td>8.904624</td>\n",
       "      <td>0.181818</td>\n",
       "      <td>1.255649</td>\n",
       "      <td>0.161324</td>\n",
       "      <td>1.236264</td>\n",
       "    </tr>\n",
       "    <tr>\n",
       "      <th>49</th>\n",
       "      <td>0.081574</td>\n",
       "      <td>2.739291</td>\n",
       "      <td>0.390930</td>\n",
       "      <td>361.573046</td>\n",
       "      <td>7513.529885</td>\n",
       "      <td>9.285119</td>\n",
       "      <td>0.179046</td>\n",
       "      <td>1.287985</td>\n",
       "      <td>0.150899</td>\n",
       "      <td>1.187294</td>\n",
       "    </tr>\n",
       "    <tr>\n",
       "      <th>...</th>\n",
       "      <td>...</td>\n",
       "      <td>...</td>\n",
       "      <td>...</td>\n",
       "      <td>...</td>\n",
       "      <td>...</td>\n",
       "      <td>...</td>\n",
       "      <td>...</td>\n",
       "      <td>...</td>\n",
       "      <td>...</td>\n",
       "      <td>...</td>\n",
       "    </tr>\n",
       "    <tr>\n",
       "      <th>76</th>\n",
       "      <td>0.020287</td>\n",
       "      <td>6.017551</td>\n",
       "      <td>0.113271</td>\n",
       "      <td>298.854682</td>\n",
       "      <td>5770.579126</td>\n",
       "      <td>8.462384</td>\n",
       "      <td>0.020287</td>\n",
       "      <td>0.746407</td>\n",
       "      <td>0.018597</td>\n",
       "      <td>0.210692</td>\n",
       "    </tr>\n",
       "    <tr>\n",
       "      <th>77</th>\n",
       "      <td>0.016379</td>\n",
       "      <td>0.158456</td>\n",
       "      <td>0.090082</td>\n",
       "      <td>208.699349</td>\n",
       "      <td>5661.622094</td>\n",
       "      <td>8.057325</td>\n",
       "      <td>0.014559</td>\n",
       "      <td>0.633303</td>\n",
       "      <td>0.014559</td>\n",
       "      <td>0.189021</td>\n",
       "    </tr>\n",
       "    <tr>\n",
       "      <th>78</th>\n",
       "      <td>0.022770</td>\n",
       "      <td>1.948213</td>\n",
       "      <td>0.123340</td>\n",
       "      <td>220.171212</td>\n",
       "      <td>5680.871421</td>\n",
       "      <td>8.258065</td>\n",
       "      <td>0.036053</td>\n",
       "      <td>0.612903</td>\n",
       "      <td>0.018975</td>\n",
       "      <td>0.210116</td>\n",
       "    </tr>\n",
       "    <tr>\n",
       "      <th>79</th>\n",
       "      <td>0.022426</td>\n",
       "      <td>10.117846</td>\n",
       "      <td>0.196738</td>\n",
       "      <td>151.904152</td>\n",
       "      <td>5804.388207</td>\n",
       "      <td>7.996942</td>\n",
       "      <td>0.132518</td>\n",
       "      <td>0.564730</td>\n",
       "      <td>0.123344</td>\n",
       "      <td>0.217102</td>\n",
       "    </tr>\n",
       "    <tr>\n",
       "      <th>80</th>\n",
       "      <td>0.021689</td>\n",
       "      <td>0.138388</td>\n",
       "      <td>0.091324</td>\n",
       "      <td>187.063902</td>\n",
       "      <td>5686.269881</td>\n",
       "      <td>7.635845</td>\n",
       "      <td>0.027397</td>\n",
       "      <td>0.550228</td>\n",
       "      <td>0.029680</td>\n",
       "      <td>0.193938</td>\n",
       "    </tr>\n",
       "    <tr>\n",
       "      <th>81</th>\n",
       "      <td>0.011628</td>\n",
       "      <td>1.510071</td>\n",
       "      <td>0.117571</td>\n",
       "      <td>162.240680</td>\n",
       "      <td>5605.785506</td>\n",
       "      <td>7.945736</td>\n",
       "      <td>0.016796</td>\n",
       "      <td>0.536176</td>\n",
       "      <td>0.021964</td>\n",
       "      <td>0.178227</td>\n",
       "    </tr>\n",
       "    <tr>\n",
       "      <th>82</th>\n",
       "      <td>0.029366</td>\n",
       "      <td>0.314545</td>\n",
       "      <td>0.102009</td>\n",
       "      <td>125.250297</td>\n",
       "      <td>5667.691086</td>\n",
       "      <td>7.432767</td>\n",
       "      <td>0.006182</td>\n",
       "      <td>0.414219</td>\n",
       "      <td>0.018547</td>\n",
       "      <td>0.173267</td>\n",
       "    </tr>\n",
       "    <tr>\n",
       "      <th>83</th>\n",
       "      <td>0.019531</td>\n",
       "      <td>1.435225</td>\n",
       "      <td>0.107422</td>\n",
       "      <td>194.069642</td>\n",
       "      <td>6860.676057</td>\n",
       "      <td>7.384766</td>\n",
       "      <td>0.011719</td>\n",
       "      <td>0.373047</td>\n",
       "      <td>0.031250</td>\n",
       "      <td>0.166219</td>\n",
       "    </tr>\n",
       "    <tr>\n",
       "      <th>84</th>\n",
       "      <td>0.016667</td>\n",
       "      <td>0.132625</td>\n",
       "      <td>0.091667</td>\n",
       "      <td>153.586964</td>\n",
       "      <td>5499.924870</td>\n",
       "      <td>7.187500</td>\n",
       "      <td>0.018750</td>\n",
       "      <td>0.339583</td>\n",
       "      <td>0.012500</td>\n",
       "      <td>0.135513</td>\n",
       "    </tr>\n",
       "    <tr>\n",
       "      <th>85</th>\n",
       "      <td>0.018634</td>\n",
       "      <td>3.816348</td>\n",
       "      <td>0.099379</td>\n",
       "      <td>93.920341</td>\n",
       "      <td>5791.557961</td>\n",
       "      <td>6.695652</td>\n",
       "      <td>0.016563</td>\n",
       "      <td>0.316770</td>\n",
       "      <td>0.012422</td>\n",
       "      <td>0.145645</td>\n",
       "    </tr>\n",
       "    <tr>\n",
       "      <th>86</th>\n",
       "      <td>0.014742</td>\n",
       "      <td>5.148767</td>\n",
       "      <td>0.085995</td>\n",
       "      <td>122.465495</td>\n",
       "      <td>5872.100367</td>\n",
       "      <td>7.137592</td>\n",
       "      <td>0.014742</td>\n",
       "      <td>0.304668</td>\n",
       "      <td>0.009828</td>\n",
       "      <td>0.207098</td>\n",
       "    </tr>\n",
       "    <tr>\n",
       "      <th>87</th>\n",
       "      <td>0.022409</td>\n",
       "      <td>3.376227</td>\n",
       "      <td>0.075630</td>\n",
       "      <td>107.460695</td>\n",
       "      <td>5836.202523</td>\n",
       "      <td>6.585434</td>\n",
       "      <td>0.025210</td>\n",
       "      <td>0.369748</td>\n",
       "      <td>0.025210</td>\n",
       "      <td>0.194928</td>\n",
       "    </tr>\n",
       "    <tr>\n",
       "      <th>88</th>\n",
       "      <td>0.025559</td>\n",
       "      <td>0.086203</td>\n",
       "      <td>0.124601</td>\n",
       "      <td>128.718097</td>\n",
       "      <td>5430.541688</td>\n",
       "      <td>6.357827</td>\n",
       "      <td>0.038339</td>\n",
       "      <td>0.325879</td>\n",
       "      <td>0.022364</td>\n",
       "      <td>0.186411</td>\n",
       "    </tr>\n",
       "    <tr>\n",
       "      <th>89</th>\n",
       "      <td>0.032609</td>\n",
       "      <td>0.088126</td>\n",
       "      <td>0.086957</td>\n",
       "      <td>305.862793</td>\n",
       "      <td>5288.440874</td>\n",
       "      <td>6.583333</td>\n",
       "      <td>0.032609</td>\n",
       "      <td>0.231884</td>\n",
       "      <td>0.036232</td>\n",
       "      <td>0.140382</td>\n",
       "    </tr>\n",
       "    <tr>\n",
       "      <th>90</th>\n",
       "      <td>0.015152</td>\n",
       "      <td>0.107770</td>\n",
       "      <td>0.075758</td>\n",
       "      <td>82.802935</td>\n",
       "      <td>5982.442343</td>\n",
       "      <td>6.247475</td>\n",
       "      <td>0.005051</td>\n",
       "      <td>0.186869</td>\n",
       "      <td>0.015152</td>\n",
       "      <td>0.214515</td>\n",
       "    </tr>\n",
       "    <tr>\n",
       "      <th>91</th>\n",
       "      <td>0.032468</td>\n",
       "      <td>0.139170</td>\n",
       "      <td>0.129870</td>\n",
       "      <td>132.822817</td>\n",
       "      <td>6056.264337</td>\n",
       "      <td>5.655844</td>\n",
       "      <td>0.045455</td>\n",
       "      <td>0.227273</td>\n",
       "      <td>0.038961</td>\n",
       "      <td>0.187861</td>\n",
       "    </tr>\n",
       "    <tr>\n",
       "      <th>92</th>\n",
       "      <td>0.000000</td>\n",
       "      <td>0.168819</td>\n",
       "      <td>0.129032</td>\n",
       "      <td>139.675119</td>\n",
       "      <td>5752.316205</td>\n",
       "      <td>5.677419</td>\n",
       "      <td>0.000000</td>\n",
       "      <td>0.258065</td>\n",
       "      <td>0.021505</td>\n",
       "      <td>0.164833</td>\n",
       "    </tr>\n",
       "    <tr>\n",
       "      <th>93</th>\n",
       "      <td>0.011494</td>\n",
       "      <td>0.112091</td>\n",
       "      <td>0.126437</td>\n",
       "      <td>92.042240</td>\n",
       "      <td>6317.145152</td>\n",
       "      <td>5.574713</td>\n",
       "      <td>0.022989</td>\n",
       "      <td>0.149425</td>\n",
       "      <td>0.045977</td>\n",
       "      <td>0.182446</td>\n",
       "    </tr>\n",
       "    <tr>\n",
       "      <th>94</th>\n",
       "      <td>0.021277</td>\n",
       "      <td>0.094463</td>\n",
       "      <td>0.127660</td>\n",
       "      <td>516.569310</td>\n",
       "      <td>9558.484089</td>\n",
       "      <td>5.638298</td>\n",
       "      <td>0.063830</td>\n",
       "      <td>0.234043</td>\n",
       "      <td>0.021277</td>\n",
       "      <td>0.235887</td>\n",
       "    </tr>\n",
       "    <tr>\n",
       "      <th>95</th>\n",
       "      <td>0.022222</td>\n",
       "      <td>0.152174</td>\n",
       "      <td>0.066667</td>\n",
       "      <td>51.913572</td>\n",
       "      <td>5701.567354</td>\n",
       "      <td>4.844444</td>\n",
       "      <td>0.022222</td>\n",
       "      <td>0.155556</td>\n",
       "      <td>0.022222</td>\n",
       "      <td>0.223506</td>\n",
       "    </tr>\n",
       "    <tr>\n",
       "      <th>96</th>\n",
       "      <td>0.000000</td>\n",
       "      <td>0.140168</td>\n",
       "      <td>0.166667</td>\n",
       "      <td>112.293103</td>\n",
       "      <td>5943.369714</td>\n",
       "      <td>2.888889</td>\n",
       "      <td>0.000000</td>\n",
       "      <td>0.111111</td>\n",
       "      <td>0.000000</td>\n",
       "      <td>0.279383</td>\n",
       "    </tr>\n",
       "    <tr>\n",
       "      <th>97</th>\n",
       "      <td>0.000000</td>\n",
       "      <td>0.078742</td>\n",
       "      <td>0.000000</td>\n",
       "      <td>3.133464</td>\n",
       "      <td>5129.326392</td>\n",
       "      <td>5.000000</td>\n",
       "      <td>0.058824</td>\n",
       "      <td>0.058824</td>\n",
       "      <td>0.117647</td>\n",
       "      <td>0.281536</td>\n",
       "    </tr>\n",
       "    <tr>\n",
       "      <th>98</th>\n",
       "      <td>0.000000</td>\n",
       "      <td>0.170321</td>\n",
       "      <td>0.166667</td>\n",
       "      <td>0.122822</td>\n",
       "      <td>4268.777285</td>\n",
       "      <td>4.833333</td>\n",
       "      <td>0.000000</td>\n",
       "      <td>0.166667</td>\n",
       "      <td>0.000000</td>\n",
       "      <td>0.126204</td>\n",
       "    </tr>\n",
       "    <tr>\n",
       "      <th>99</th>\n",
       "      <td>0.222222</td>\n",
       "      <td>0.025889</td>\n",
       "      <td>0.111111</td>\n",
       "      <td>112.531466</td>\n",
       "      <td>6932.591936</td>\n",
       "      <td>7.111111</td>\n",
       "      <td>0.000000</td>\n",
       "      <td>0.222222</td>\n",
       "      <td>0.000000</td>\n",
       "      <td>0.336543</td>\n",
       "    </tr>\n",
       "    <tr>\n",
       "      <th>101</th>\n",
       "      <td>0.333333</td>\n",
       "      <td>0.032637</td>\n",
       "      <td>0.666667</td>\n",
       "      <td>16.671728</td>\n",
       "      <td>3739.740412</td>\n",
       "      <td>4.333333</td>\n",
       "      <td>0.000000</td>\n",
       "      <td>0.000000</td>\n",
       "      <td>0.000000</td>\n",
       "      <td>0.000000</td>\n",
       "    </tr>\n",
       "    <tr>\n",
       "      <th>102</th>\n",
       "      <td>0.000000</td>\n",
       "      <td>0.039836</td>\n",
       "      <td>0.000000</td>\n",
       "      <td>0.092089</td>\n",
       "      <td>4462.407079</td>\n",
       "      <td>7.333333</td>\n",
       "      <td>0.000000</td>\n",
       "      <td>0.000000</td>\n",
       "      <td>0.000000</td>\n",
       "      <td>0.333333</td>\n",
       "    </tr>\n",
       "    <tr>\n",
       "      <th>103</th>\n",
       "      <td>0.000000</td>\n",
       "      <td>0.335152</td>\n",
       "      <td>0.000000</td>\n",
       "      <td>601.166667</td>\n",
       "      <td>2757.073746</td>\n",
       "      <td>6.666667</td>\n",
       "      <td>0.000000</td>\n",
       "      <td>0.666667</td>\n",
       "      <td>0.000000</td>\n",
       "      <td>0.000000</td>\n",
       "    </tr>\n",
       "    <tr>\n",
       "      <th>105</th>\n",
       "      <td>0.000000</td>\n",
       "      <td>0.003469</td>\n",
       "      <td>0.000000</td>\n",
       "      <td>2.000000</td>\n",
       "      <td>6670.221237</td>\n",
       "      <td>4.000000</td>\n",
       "      <td>0.000000</td>\n",
       "      <td>0.000000</td>\n",
       "      <td>0.000000</td>\n",
       "      <td>0.757222</td>\n",
       "    </tr>\n",
       "    <tr>\n",
       "      <th>107</th>\n",
       "      <td>0.000000</td>\n",
       "      <td>0.064748</td>\n",
       "      <td>0.000000</td>\n",
       "      <td>939.000000</td>\n",
       "      <td>6670.221237</td>\n",
       "      <td>9.000000</td>\n",
       "      <td>0.000000</td>\n",
       "      <td>1.000000</td>\n",
       "      <td>0.000000</td>\n",
       "      <td>0.000000</td>\n",
       "    </tr>\n",
       "    <tr>\n",
       "      <th>109</th>\n",
       "      <td>0.000000</td>\n",
       "      <td>0.177918</td>\n",
       "      <td>0.000000</td>\n",
       "      <td>1229.500000</td>\n",
       "      <td>6670.221237</td>\n",
       "      <td>10.000000</td>\n",
       "      <td>0.000000</td>\n",
       "      <td>0.500000</td>\n",
       "      <td>0.000000</td>\n",
       "      <td>0.757222</td>\n",
       "    </tr>\n",
       "  </tbody>\n",
       "</table>\n",
       "<p>86 rows × 10 columns</p>\n",
       "</div>"
      ],
      "text/plain": [
       "     SeriousDlqin2yrs  RevolvingUtilizationOfUnsecuredLines  \\\n",
       "age                                                           \n",
       "0            0.000000                              1.000000   \n",
       "21           0.071038                              0.644440   \n",
       "22           0.082949                              0.596622   \n",
       "23           0.109204                              0.572803   \n",
       "24           0.120098                              1.298309   \n",
       "25           0.126967                              0.748182   \n",
       "26           0.123219                              4.428287   \n",
       "27           0.124066                              5.893830   \n",
       "28           0.131410                              6.284146   \n",
       "29           0.105170                              7.723782   \n",
       "30           0.107899                              0.939752   \n",
       "31           0.106477                              7.730251   \n",
       "32           0.113659                              2.586568   \n",
       "33           0.109870                              6.251194   \n",
       "34           0.097448                             11.525299   \n",
       "35           0.107302                             10.751041   \n",
       "36           0.099622                              7.066083   \n",
       "37           0.090044                              4.279796   \n",
       "38           0.089320                             26.736554   \n",
       "39           0.093740                              9.854877   \n",
       "40           0.085354                              9.014254   \n",
       "41           0.094170                              3.588489   \n",
       "42           0.093770                              9.656814   \n",
       "43           0.086035                             12.729724   \n",
       "44           0.073467                              4.155812   \n",
       "45           0.081097                             18.429801   \n",
       "46           0.087237                              6.613468   \n",
       "47           0.082280                              5.632571   \n",
       "48           0.075145                              3.545005   \n",
       "49           0.081574                              2.739291   \n",
       "..                ...                                   ...   \n",
       "76           0.020287                              6.017551   \n",
       "77           0.016379                              0.158456   \n",
       "78           0.022770                              1.948213   \n",
       "79           0.022426                             10.117846   \n",
       "80           0.021689                              0.138388   \n",
       "81           0.011628                              1.510071   \n",
       "82           0.029366                              0.314545   \n",
       "83           0.019531                              1.435225   \n",
       "84           0.016667                              0.132625   \n",
       "85           0.018634                              3.816348   \n",
       "86           0.014742                              5.148767   \n",
       "87           0.022409                              3.376227   \n",
       "88           0.025559                              0.086203   \n",
       "89           0.032609                              0.088126   \n",
       "90           0.015152                              0.107770   \n",
       "91           0.032468                              0.139170   \n",
       "92           0.000000                              0.168819   \n",
       "93           0.011494                              0.112091   \n",
       "94           0.021277                              0.094463   \n",
       "95           0.022222                              0.152174   \n",
       "96           0.000000                              0.140168   \n",
       "97           0.000000                              0.078742   \n",
       "98           0.000000                              0.170321   \n",
       "99           0.222222                              0.025889   \n",
       "101          0.333333                              0.032637   \n",
       "102          0.000000                              0.039836   \n",
       "103          0.000000                              0.335152   \n",
       "105          0.000000                              0.003469   \n",
       "107          0.000000                              0.064748   \n",
       "109          0.000000                              0.177918   \n",
       "\n",
       "     NumberOfTime30-59DaysPastDueNotWorse    DebtRatio  MonthlyIncome  \\\n",
       "age                                                                     \n",
       "0                                1.000000     0.436927    6000.000000   \n",
       "21                              11.814208    34.961721    2733.211615   \n",
       "22                               5.718894    27.833068    2608.793157   \n",
       "23                               2.251170    23.057826    2699.484986   \n",
       "24                               2.333333    47.577035    2987.936621   \n",
       "25                               1.939140    60.692332    3207.007884   \n",
       "26                               1.048617    79.419637    3464.295091   \n",
       "27                               1.340807   103.405992    3789.928178   \n",
       "28                               1.043590    98.827569    4019.762616   \n",
       "29                               0.836075   146.061571    4310.503390   \n",
       "30                               0.631905   141.914249    4586.873611   \n",
       "31                               0.541217   147.602712    4925.788722   \n",
       "32                               0.340000   145.524477    4942.901670   \n",
       "33                               0.619473   214.115720    5453.155600   \n",
       "34                               0.590719   209.529632    5576.404973   \n",
       "35                               0.461264   248.868184    5896.826318   \n",
       "36                               0.345523   248.188436    5880.283085   \n",
       "37                               0.410551   358.151620    6154.811396   \n",
       "38                               0.308248   289.381922    6222.537344   \n",
       "39                               0.500167   300.241559    6414.919029   \n",
       "40                               0.410281   329.538788    6503.958007   \n",
       "41                               0.390775   339.079599    6687.213713   \n",
       "42                               0.442894   349.251837    6767.235021   \n",
       "43                               0.444202   343.350720    7057.404335   \n",
       "44                               0.463570   338.843018    8142.793827   \n",
       "45                               0.388064   352.927449    7092.407173   \n",
       "46                               0.388530   375.395637    7039.826085   \n",
       "47                               0.398225   404.548652    7259.161717   \n",
       "48                               0.405675   429.730786    7140.169536   \n",
       "49                               0.390930   361.573046    7513.529885   \n",
       "..                                    ...          ...            ...   \n",
       "76                               0.113271   298.854682    5770.579126   \n",
       "77                               0.090082   208.699349    5661.622094   \n",
       "78                               0.123340   220.171212    5680.871421   \n",
       "79                               0.196738   151.904152    5804.388207   \n",
       "80                               0.091324   187.063902    5686.269881   \n",
       "81                               0.117571   162.240680    5605.785506   \n",
       "82                               0.102009   125.250297    5667.691086   \n",
       "83                               0.107422   194.069642    6860.676057   \n",
       "84                               0.091667   153.586964    5499.924870   \n",
       "85                               0.099379    93.920341    5791.557961   \n",
       "86                               0.085995   122.465495    5872.100367   \n",
       "87                               0.075630   107.460695    5836.202523   \n",
       "88                               0.124601   128.718097    5430.541688   \n",
       "89                               0.086957   305.862793    5288.440874   \n",
       "90                               0.075758    82.802935    5982.442343   \n",
       "91                               0.129870   132.822817    6056.264337   \n",
       "92                               0.129032   139.675119    5752.316205   \n",
       "93                               0.126437    92.042240    6317.145152   \n",
       "94                               0.127660   516.569310    9558.484089   \n",
       "95                               0.066667    51.913572    5701.567354   \n",
       "96                               0.166667   112.293103    5943.369714   \n",
       "97                               0.000000     3.133464    5129.326392   \n",
       "98                               0.166667     0.122822    4268.777285   \n",
       "99                               0.111111   112.531466    6932.591936   \n",
       "101                              0.666667    16.671728    3739.740412   \n",
       "102                              0.000000     0.092089    4462.407079   \n",
       "103                              0.000000   601.166667    2757.073746   \n",
       "105                              0.000000     2.000000    6670.221237   \n",
       "107                              0.000000   939.000000    6670.221237   \n",
       "109                              0.000000  1229.500000    6670.221237   \n",
       "\n",
       "     NumberOfOpenCreditLinesAndLoans  NumberOfTimes90DaysLate  \\\n",
       "age                                                             \n",
       "0                           6.000000                 0.000000   \n",
       "21                          1.251366                11.792350   \n",
       "22                          1.824885                 5.677419   \n",
       "23                          2.268331                 2.229329   \n",
       "24                          2.997549                 2.296569   \n",
       "25                          3.865687                 1.904512   \n",
       "26                          4.455993                 0.979883   \n",
       "27                          5.030643                 1.246637   \n",
       "28                          5.346154                 0.944872   \n",
       "29                          5.776733                 0.740893   \n",
       "30                          6.096541                 0.512648   \n",
       "31                          6.641806                 0.424436   \n",
       "32                          6.734146                 0.228780   \n",
       "33                          7.103618                 0.511836   \n",
       "34                          7.075638                 0.474710   \n",
       "35                          7.350846                 0.319679   \n",
       "36                          7.526272                 0.195040   \n",
       "37                          7.637049                 0.230464   \n",
       "38                          7.624857                 0.168757   \n",
       "39                          8.029461                 0.316036   \n",
       "40                          7.737472                 0.225671   \n",
       "41                          8.036195                 0.189622   \n",
       "42                          8.152498                 0.272550   \n",
       "43                          8.369389                 0.257170   \n",
       "44                          8.265634                 0.267760   \n",
       "45                          8.535408                 0.185894   \n",
       "46                          8.595315                 0.182283   \n",
       "47                          8.894058                 0.184458   \n",
       "48                          8.904624                 0.181818   \n",
       "49                          9.285119                 0.179046   \n",
       "..                               ...                      ...   \n",
       "76                          8.462384                 0.020287   \n",
       "77                          8.057325                 0.014559   \n",
       "78                          8.258065                 0.036053   \n",
       "79                          7.996942                 0.132518   \n",
       "80                          7.635845                 0.027397   \n",
       "81                          7.945736                 0.016796   \n",
       "82                          7.432767                 0.006182   \n",
       "83                          7.384766                 0.011719   \n",
       "84                          7.187500                 0.018750   \n",
       "85                          6.695652                 0.016563   \n",
       "86                          7.137592                 0.014742   \n",
       "87                          6.585434                 0.025210   \n",
       "88                          6.357827                 0.038339   \n",
       "89                          6.583333                 0.032609   \n",
       "90                          6.247475                 0.005051   \n",
       "91                          5.655844                 0.045455   \n",
       "92                          5.677419                 0.000000   \n",
       "93                          5.574713                 0.022989   \n",
       "94                          5.638298                 0.063830   \n",
       "95                          4.844444                 0.022222   \n",
       "96                          2.888889                 0.000000   \n",
       "97                          5.000000                 0.058824   \n",
       "98                          4.833333                 0.000000   \n",
       "99                          7.111111                 0.000000   \n",
       "101                         4.333333                 0.000000   \n",
       "102                         7.333333                 0.000000   \n",
       "103                         6.666667                 0.000000   \n",
       "105                         4.000000                 0.000000   \n",
       "107                         9.000000                 0.000000   \n",
       "109                        10.000000                 0.000000   \n",
       "\n",
       "     NumberRealEstateLoansOrLines  NumberOfTime60-89DaysPastDueNotWorse  \\\n",
       "age                                                                       \n",
       "0                        2.000000                              0.000000   \n",
       "21                       0.032787                             11.792350   \n",
       "22                       0.004608                              5.663594   \n",
       "23                       0.004680                              2.185647   \n",
       "24                       0.026961                              2.238971   \n",
       "25                       0.034627                              1.858342   \n",
       "26                       0.108131                              0.932104   \n",
       "27                       0.186099                              1.183857   \n",
       "28                       0.259615                              0.865385   \n",
       "29                       0.384841                              0.665687   \n",
       "30                       0.475478                              0.450181   \n",
       "31                       0.606477                              0.386654   \n",
       "32                       0.655610                              0.158049   \n",
       "33                       0.826262                              0.437695   \n",
       "34                       0.793968                              0.404640   \n",
       "35                       0.934550                              0.269813   \n",
       "36                       0.930643                              0.141656   \n",
       "37                       1.019833                              0.209441   \n",
       "38                       1.013303                              0.120487   \n",
       "39                       1.080683                              0.276197   \n",
       "40                       1.087941                              0.177174   \n",
       "41                       1.146060                              0.162076   \n",
       "42                       1.154445                              0.231019   \n",
       "43                       1.200436                              0.225998   \n",
       "44                       1.221008                              0.224651   \n",
       "45                       1.189606                              0.171616   \n",
       "46                       1.225094                              0.152935   \n",
       "47                       1.280452                              0.162678   \n",
       "48                       1.255649                              0.161324   \n",
       "49                       1.287985                              0.150899   \n",
       "..                            ...                                   ...   \n",
       "76                       0.746407                              0.018597   \n",
       "77                       0.633303                              0.014559   \n",
       "78                       0.612903                              0.018975   \n",
       "79                       0.564730                              0.123344   \n",
       "80                       0.550228                              0.029680   \n",
       "81                       0.536176                              0.021964   \n",
       "82                       0.414219                              0.018547   \n",
       "83                       0.373047                              0.031250   \n",
       "84                       0.339583                              0.012500   \n",
       "85                       0.316770                              0.012422   \n",
       "86                       0.304668                              0.009828   \n",
       "87                       0.369748                              0.025210   \n",
       "88                       0.325879                              0.022364   \n",
       "89                       0.231884                              0.036232   \n",
       "90                       0.186869                              0.015152   \n",
       "91                       0.227273                              0.038961   \n",
       "92                       0.258065                              0.021505   \n",
       "93                       0.149425                              0.045977   \n",
       "94                       0.234043                              0.021277   \n",
       "95                       0.155556                              0.022222   \n",
       "96                       0.111111                              0.000000   \n",
       "97                       0.058824                              0.117647   \n",
       "98                       0.166667                              0.000000   \n",
       "99                       0.222222                              0.000000   \n",
       "101                      0.000000                              0.000000   \n",
       "102                      0.000000                              0.000000   \n",
       "103                      0.666667                              0.000000   \n",
       "105                      0.000000                              0.000000   \n",
       "107                      1.000000                              0.000000   \n",
       "109                      0.500000                              0.000000   \n",
       "\n",
       "     NumberOfDependents  \n",
       "age                      \n",
       "0              2.000000  \n",
       "21             0.155595  \n",
       "22             0.105471  \n",
       "23             0.155699  \n",
       "24             0.173290  \n",
       "25             0.243775  \n",
       "26             0.278353  \n",
       "27             0.338120  \n",
       "28             0.410442  \n",
       "29             0.469760  \n",
       "30             0.512923  \n",
       "31             0.596496  \n",
       "32             0.729116  \n",
       "33             0.792938  \n",
       "34             0.876673  \n",
       "35             0.948456  \n",
       "36             0.992963  \n",
       "37             1.124645  \n",
       "38             1.165424  \n",
       "39             1.245283  \n",
       "40             1.287018  \n",
       "41             1.309802  \n",
       "42             1.346751  \n",
       "43             1.350815  \n",
       "44             1.349771  \n",
       "45             1.308176  \n",
       "46             1.329265  \n",
       "47             1.293183  \n",
       "48             1.236264  \n",
       "49             1.187294  \n",
       "..                  ...  \n",
       "76             0.210692  \n",
       "77             0.189021  \n",
       "78             0.210116  \n",
       "79             0.217102  \n",
       "80             0.193938  \n",
       "81             0.178227  \n",
       "82             0.173267  \n",
       "83             0.166219  \n",
       "84             0.135513  \n",
       "85             0.145645  \n",
       "86             0.207098  \n",
       "87             0.194928  \n",
       "88             0.186411  \n",
       "89             0.140382  \n",
       "90             0.214515  \n",
       "91             0.187861  \n",
       "92             0.164833  \n",
       "93             0.182446  \n",
       "94             0.235887  \n",
       "95             0.223506  \n",
       "96             0.279383  \n",
       "97             0.281536  \n",
       "98             0.126204  \n",
       "99             0.336543  \n",
       "101            0.000000  \n",
       "102            0.333333  \n",
       "103            0.000000  \n",
       "105            0.757222  \n",
       "107            0.000000  \n",
       "109            0.757222  \n",
       "\n",
       "[86 rows x 10 columns]"
      ]
     },
     "execution_count": 170,
     "metadata": {},
     "output_type": "execute_result"
    }
   ],
   "source": [
    "cs_train.groupby('age').mean()"
   ]
  },
  {
   "cell_type": "code",
   "execution_count": 171,
   "metadata": {},
   "outputs": [
    {
     "data": {
      "text/plain": [
       "49     3837\n",
       "48     3806\n",
       "50     3753\n",
       "63     3719\n",
       "47     3719\n",
       "46     3714\n",
       "53     3648\n",
       "51     3627\n",
       "52     3609\n",
       "56     3589\n",
       "62     3568\n",
       "54     3561\n",
       "61     3522\n",
       "45     3502\n",
       "58     3443\n",
       "55     3416\n",
       "57     3375\n",
       "44     3294\n",
       "59     3280\n",
       "60     3258\n",
       "43     3208\n",
       "41     3122\n",
       "40     3093\n",
       "42     3082\n",
       "64     3058\n",
       "39     2987\n",
       "38     2631\n",
       "65     2594\n",
       "37     2521\n",
       "67     2503\n",
       "       ... \n",
       "24      816\n",
       "81      774\n",
       "82      647\n",
       "23      641\n",
       "83      512\n",
       "85      483\n",
       "84      480\n",
       "22      434\n",
       "86      407\n",
       "87      357\n",
       "88      313\n",
       "89      276\n",
       "90      198\n",
       "21      183\n",
       "91      154\n",
       "92       93\n",
       "93       87\n",
       "94       47\n",
       "95       45\n",
       "96       18\n",
       "97       17\n",
       "99        9\n",
       "98        6\n",
       "103       3\n",
       "102       3\n",
       "101       3\n",
       "109       2\n",
       "107       1\n",
       "105       1\n",
       "0         1\n",
       "Name: age, Length: 86, dtype: int64"
      ]
     },
     "execution_count": 171,
     "metadata": {},
     "output_type": "execute_result"
    }
   ],
   "source": [
    "cs_train.age.value_counts()"
   ]
  },
  {
   "cell_type": "code",
   "execution_count": 172,
   "metadata": {},
   "outputs": [
    {
     "data": {
      "text/html": [
       "<div>\n",
       "<style scoped>\n",
       "    .dataframe tbody tr th:only-of-type {\n",
       "        vertical-align: middle;\n",
       "    }\n",
       "\n",
       "    .dataframe tbody tr th {\n",
       "        vertical-align: top;\n",
       "    }\n",
       "\n",
       "    .dataframe thead th {\n",
       "        text-align: right;\n",
       "    }\n",
       "</style>\n",
       "<table border=\"1\" class=\"dataframe\">\n",
       "  <thead>\n",
       "    <tr style=\"text-align: right;\">\n",
       "      <th></th>\n",
       "      <th>SeriousDlqin2yrs</th>\n",
       "      <th>RevolvingUtilizationOfUnsecuredLines</th>\n",
       "      <th>age</th>\n",
       "      <th>NumberOfTime30-59DaysPastDueNotWorse</th>\n",
       "      <th>DebtRatio</th>\n",
       "      <th>MonthlyIncome</th>\n",
       "      <th>NumberOfOpenCreditLinesAndLoans</th>\n",
       "      <th>NumberOfTimes90DaysLate</th>\n",
       "      <th>NumberRealEstateLoansOrLines</th>\n",
       "      <th>NumberOfTime60-89DaysPastDueNotWorse</th>\n",
       "      <th>NumberOfDependents</th>\n",
       "    </tr>\n",
       "  </thead>\n",
       "  <tbody>\n",
       "    <tr>\n",
       "      <th>65695</th>\n",
       "      <td>0</td>\n",
       "      <td>1.0</td>\n",
       "      <td>0</td>\n",
       "      <td>1</td>\n",
       "      <td>0.436927</td>\n",
       "      <td>6000.0</td>\n",
       "      <td>6</td>\n",
       "      <td>0</td>\n",
       "      <td>2</td>\n",
       "      <td>0</td>\n",
       "      <td>2.0</td>\n",
       "    </tr>\n",
       "  </tbody>\n",
       "</table>\n",
       "</div>"
      ],
      "text/plain": [
       "       SeriousDlqin2yrs  RevolvingUtilizationOfUnsecuredLines  age  \\\n",
       "65695                 0                                   1.0    0   \n",
       "\n",
       "       NumberOfTime30-59DaysPastDueNotWorse  DebtRatio  MonthlyIncome  \\\n",
       "65695                                     1   0.436927         6000.0   \n",
       "\n",
       "       NumberOfOpenCreditLinesAndLoans  NumberOfTimes90DaysLate  \\\n",
       "65695                                6                        0   \n",
       "\n",
       "       NumberRealEstateLoansOrLines  NumberOfTime60-89DaysPastDueNotWorse  \\\n",
       "65695                             2                                     0   \n",
       "\n",
       "       NumberOfDependents  \n",
       "65695                 2.0  "
      ]
     },
     "execution_count": 172,
     "metadata": {},
     "output_type": "execute_result"
    }
   ],
   "source": [
    "# Age 0 is incorrect data\n",
    "cs_train[cs_train.age==0]"
   ]
  },
  {
   "cell_type": "code",
   "execution_count": 173,
   "metadata": {},
   "outputs": [
    {
     "data": {
      "text/plain": [
       "SeriousDlqin2yrs                           0.061290\n",
       "RevolvingUtilizationOfUnsecuredLines      10.182295\n",
       "age                                       45.483871\n",
       "NumberOfTime30-59DaysPastDueNotWorse       0.270968\n",
       "DebtRatio                                  0.372518\n",
       "MonthlyIncome                           6000.000000\n",
       "NumberOfOpenCreditLinesAndLoans            8.919355\n",
       "NumberOfTimes90DaysLate                    0.058065\n",
       "NumberRealEstateLoansOrLines               1.164516\n",
       "NumberOfTime60-89DaysPastDueNotWorse       0.080645\n",
       "NumberOfDependents                         2.000000\n",
       "dtype: float64"
      ]
     },
     "execution_count": 173,
     "metadata": {},
     "output_type": "execute_result"
    }
   ],
   "source": [
    "cs_train[(cs_train.MonthlyIncome==6000.0) & (cs_train.NumberOfDependents==2.0)].mean()"
   ]
  },
  {
   "cell_type": "code",
   "execution_count": 174,
   "metadata": {},
   "outputs": [],
   "source": [
    "# correct Age=0\n",
    "cs_train['age'] = cs_train['age'].replace(0,45)"
   ]
  },
  {
   "cell_type": "code",
   "execution_count": 175,
   "metadata": {},
   "outputs": [
    {
     "data": {
      "text/plain": [
       "array([<matplotlib.axes._subplots.AxesSubplot object at 0x110511da0>,\n",
       "       <matplotlib.axes._subplots.AxesSubplot object at 0x1103a1710>],\n",
       "      dtype=object)"
      ]
     },
     "execution_count": 175,
     "metadata": {},
     "output_type": "execute_result"
    },
    {
     "data": {
      "image/png": "[encoded data removed]",
      "text/plain": [
       "<matplotlib.figure.Figure at 0x1c2ac70978>"
      ]
     },
     "metadata": {},
     "output_type": "display_data"
    }
   ],
   "source": [
    "# Feature 3: NumberOfTime30-59DaysPastDueNotWorse\n",
    "cs_train.hist(column='NumberOfTime30-59DaysPastDueNotWorse',by='SeriousDlqin2yrs',bins=50)"
   ]
  },
  {
   "cell_type": "code",
   "execution_count": 176,
   "metadata": {},
   "outputs": [
    {
     "data": {
      "text/plain": [
       "Text(0,0.5,'Serious Delinquencies')"
      ]
     },
     "execution_count": 176,
     "metadata": {},
     "output_type": "execute_result"
    },
    {
     "data": {
      "image/png": "[encoded data removed]",
      "text/plain": [
       "<matplotlib.figure.Figure at 0x1103e09b0>"
      ]
     },
     "metadata": {},
     "output_type": "display_data"
    }
   ],
   "source": [
    "pd.crosstab(cs_train['NumberOfTime30-59DaysPastDueNotWorse'],cs_train.SeriousDlqin2yrs).plot(kind='bar')\n",
    "plt.title('Serious Delinquency by Past Delinquencies')\n",
    "plt.xlabel('Past Delinquencies')\n",
    "plt.ylabel('Serious Delinquencies')"
   ]
  },
  {
   "cell_type": "code",
   "execution_count": 177,
   "metadata": {},
   "outputs": [
    {
     "data": {
      "text/plain": [
       "<matplotlib.axes._subplots.AxesSubplot at 0x1110f2c18>"
      ]
     },
     "execution_count": 177,
     "metadata": {},
     "output_type": "execute_result"
    },
    {
     "data": {
      "image/png": "[encoded data removed]",
      "text/plain": [
       "<matplotlib.figure.Figure at 0x110423c18>"
      ]
     },
     "metadata": {},
     "output_type": "display_data"
    }
   ],
   "source": [
    "cs_train['NumberOfTime30-59DaysPastDueNotWorse'].hist(bins=100)"
   ]
  },
  {
   "cell_type": "code",
   "execution_count": 178,
   "metadata": {},
   "outputs": [
    {
     "data": {
      "text/plain": [
       "<seaborn.axisgrid.FacetGrid at 0x111381080>"
      ]
     },
     "execution_count": 178,
     "metadata": {},
     "output_type": "execute_result"
    },
    {
     "data": {
      "image/png": "[encoded data removed]",
      "text/plain": [
       "<matplotlib.figure.Figure at 0x111362940>"
      ]
     },
     "metadata": {},
     "output_type": "display_data"
    }
   ],
   "source": [
    "delinquency_by_past_due = cs_train[['NumberOfTime30-59DaysPastDueNotWorse', 'SeriousDlqin2yrs']].groupby(['NumberOfTime30-59DaysPastDueNotWorse', 'SeriousDlqin2yrs']).size().reset_index()\n",
    "delinquency_by_past_due.columns = ['NumberOfTime30-59DaysPastDueNotWorse', 'SeriousDlqin2yrs', 'count']\n",
    "sns.lmplot(x = 'NumberOfTime30-59DaysPastDueNotWorse', y = 'count', data = delinquency_by_past_due, hue = \"SeriousDlqin2yrs\", \n",
    "           palette=\"Set1\", fit_reg = False)"
   ]
  },
  {
   "cell_type": "markdown",
   "metadata": {},
   "source": [
    "The 'NumberOfTime30-59DaysPastDueNotWorse' seems to be a good predictor for the outcome variable."
   ]
  },
  {
   "cell_type": "code",
   "execution_count": 179,
   "metadata": {},
   "outputs": [
    {
     "data": {
      "text/html": [
       "<div>\n",
       "<style scoped>\n",
       "    .dataframe tbody tr th:only-of-type {\n",
       "        vertical-align: middle;\n",
       "    }\n",
       "\n",
       "    .dataframe tbody tr th {\n",
       "        vertical-align: top;\n",
       "    }\n",
       "\n",
       "    .dataframe thead th {\n",
       "        text-align: right;\n",
       "    }\n",
       "</style>\n",
       "<table border=\"1\" class=\"dataframe\">\n",
       "  <thead>\n",
       "    <tr style=\"text-align: right;\">\n",
       "      <th></th>\n",
       "      <th>count</th>\n",
       "      <th>mean</th>\n",
       "      <th>std</th>\n",
       "      <th>min</th>\n",
       "      <th>25%</th>\n",
       "      <th>50%</th>\n",
       "      <th>75%</th>\n",
       "      <th>max</th>\n",
       "    </tr>\n",
       "  </thead>\n",
       "  <tbody>\n",
       "    <tr>\n",
       "      <th>NumberOfTime30-59DaysPastDueNotWorse</th>\n",
       "      <td>16.0</td>\n",
       "      <td>17.8125</td>\n",
       "      <td>31.158132</td>\n",
       "      <td>0.0</td>\n",
       "      <td>3.75</td>\n",
       "      <td>7.5</td>\n",
       "      <td>11.25</td>\n",
       "      <td>98.0</td>\n",
       "    </tr>\n",
       "    <tr>\n",
       "      <th>SeriousDlqin2yrs</th>\n",
       "      <td>16.0</td>\n",
       "      <td>1.0000</td>\n",
       "      <td>0.000000</td>\n",
       "      <td>1.0</td>\n",
       "      <td>1.00</td>\n",
       "      <td>1.0</td>\n",
       "      <td>1.00</td>\n",
       "      <td>1.0</td>\n",
       "    </tr>\n",
       "    <tr>\n",
       "      <th>count</th>\n",
       "      <td>16.0</td>\n",
       "      <td>626.6250</td>\n",
       "      <td>1340.446735</td>\n",
       "      <td>1.0</td>\n",
       "      <td>3.75</td>\n",
       "      <td>51.0</td>\n",
       "      <td>393.00</td>\n",
       "      <td>5041.0</td>\n",
       "    </tr>\n",
       "  </tbody>\n",
       "</table>\n",
       "</div>"
      ],
      "text/plain": [
       "                                      count      mean          std  min   25%  \\\n",
       "NumberOfTime30-59DaysPastDueNotWorse   16.0   17.8125    31.158132  0.0  3.75   \n",
       "SeriousDlqin2yrs                       16.0    1.0000     0.000000  1.0  1.00   \n",
       "count                                  16.0  626.6250  1340.446735  1.0  3.75   \n",
       "\n",
       "                                       50%     75%     max  \n",
       "NumberOfTime30-59DaysPastDueNotWorse   7.5   11.25    98.0  \n",
       "SeriousDlqin2yrs                       1.0    1.00     1.0  \n",
       "count                                 51.0  393.00  5041.0  "
      ]
     },
     "execution_count": 179,
     "metadata": {},
     "output_type": "execute_result"
    }
   ],
   "source": [
    "delinquents=delinquency_by_past_due[(delinquency_by_past_due.SeriousDlqin2yrs==1)].sort_values(by='count', ascending=False)\n",
    "delinquents.describe().T"
   ]
  },
  {
   "cell_type": "code",
   "execution_count": 180,
   "metadata": {},
   "outputs": [
    {
     "data": {
      "text/plain": [
       "array([<matplotlib.axes._subplots.AxesSubplot object at 0x11148fc18>,\n",
       "       <matplotlib.axes._subplots.AxesSubplot object at 0x1114c5c88>],\n",
       "      dtype=object)"
      ]
     },
     "execution_count": 180,
     "metadata": {},
     "output_type": "execute_result"
    },
    {
     "data": {
      "image/png": "[encoded data removed]",
      "text/plain": [
       "<matplotlib.figure.Figure at 0x111130b00>"
      ]
     },
     "metadata": {},
     "output_type": "display_data"
    }
   ],
   "source": [
    "# Feature 4: DebtRatio\n",
    "cs_train.hist(column='DebtRatio',by='SeriousDlqin2yrs',bins=50)"
   ]
  },
  {
   "cell_type": "code",
   "execution_count": 181,
   "metadata": {},
   "outputs": [
    {
     "data": {
      "text/plain": [
       "<seaborn.axisgrid.FacetGrid at 0x111552fd0>"
      ]
     },
     "execution_count": 181,
     "metadata": {},
     "output_type": "execute_result"
    },
    {
     "data": {
      "image/png": "[encoded data removed]",
      "text/plain": [
       "<matplotlib.figure.Figure at 0x1a214b7550>"
      ]
     },
     "metadata": {},
     "output_type": "display_data"
    }
   ],
   "source": [
    "delinquency_by_debtratio = cs_train[['DebtRatio', 'SeriousDlqin2yrs']].groupby(['DebtRatio', 'SeriousDlqin2yrs']).size().reset_index()\n",
    "delinquency_by_debtratio.columns = ['DebtRatio', 'SeriousDlqin2yrs', 'count']\n",
    "sns.lmplot(x = 'DebtRatio', y = 'count', data = delinquency_by_debtratio, hue = \"SeriousDlqin2yrs\", \n",
    "           palette=\"Set1\", fit_reg = False)"
   ]
  },
  {
   "cell_type": "markdown",
   "metadata": {},
   "source": [
    "Debt Ratio may not be a good predictor of the outcome. Also, strangely, very high debt ratio is showing as not seriously delinquent!"
   ]
  },
  {
   "cell_type": "code",
   "execution_count": 182,
   "metadata": {},
   "outputs": [
    {
     "data": {
      "text/html": [
       "<div>\n",
       "<style scoped>\n",
       "    .dataframe tbody tr th:only-of-type {\n",
       "        vertical-align: middle;\n",
       "    }\n",
       "\n",
       "    .dataframe tbody tr th {\n",
       "        vertical-align: top;\n",
       "    }\n",
       "\n",
       "    .dataframe thead th {\n",
       "        text-align: right;\n",
       "    }\n",
       "</style>\n",
       "<table border=\"1\" class=\"dataframe\">\n",
       "  <thead>\n",
       "    <tr style=\"text-align: right;\">\n",
       "      <th></th>\n",
       "      <th>count</th>\n",
       "      <th>mean</th>\n",
       "      <th>std</th>\n",
       "      <th>min</th>\n",
       "      <th>25%</th>\n",
       "      <th>50%</th>\n",
       "      <th>75%</th>\n",
       "      <th>max</th>\n",
       "    </tr>\n",
       "  </thead>\n",
       "  <tbody>\n",
       "    <tr>\n",
       "      <th>DebtRatio</th>\n",
       "      <td>9263.0</td>\n",
       "      <td>293.028195</td>\n",
       "      <td>1271.974024</td>\n",
       "      <td>0.0</td>\n",
       "      <td>0.208302</td>\n",
       "      <td>0.426661</td>\n",
       "      <td>0.810392</td>\n",
       "      <td>38793.0</td>\n",
       "    </tr>\n",
       "    <tr>\n",
       "      <th>SeriousDlqin2yrs</th>\n",
       "      <td>9263.0</td>\n",
       "      <td>1.000000</td>\n",
       "      <td>0.000000</td>\n",
       "      <td>1.0</td>\n",
       "      <td>1.000000</td>\n",
       "      <td>1.000000</td>\n",
       "      <td>1.000000</td>\n",
       "      <td>1.0</td>\n",
       "    </tr>\n",
       "    <tr>\n",
       "      <th>count</th>\n",
       "      <td>9263.0</td>\n",
       "      <td>1.082371</td>\n",
       "      <td>3.535399</td>\n",
       "      <td>1.0</td>\n",
       "      <td>1.000000</td>\n",
       "      <td>1.000000</td>\n",
       "      <td>1.000000</td>\n",
       "      <td>340.0</td>\n",
       "    </tr>\n",
       "  </tbody>\n",
       "</table>\n",
       "</div>"
      ],
      "text/plain": [
       "                   count        mean          std  min       25%       50%  \\\n",
       "DebtRatio         9263.0  293.028195  1271.974024  0.0  0.208302  0.426661   \n",
       "SeriousDlqin2yrs  9263.0    1.000000     0.000000  1.0  1.000000  1.000000   \n",
       "count             9263.0    1.082371     3.535399  1.0  1.000000  1.000000   \n",
       "\n",
       "                       75%      max  \n",
       "DebtRatio         0.810392  38793.0  \n",
       "SeriousDlqin2yrs  1.000000      1.0  \n",
       "count             1.000000    340.0  "
      ]
     },
     "execution_count": 182,
     "metadata": {},
     "output_type": "execute_result"
    }
   ],
   "source": [
    "delinquents=delinquency_by_debtratio[(delinquency_by_debtratio.SeriousDlqin2yrs==1)].sort_values(by='count', ascending=False)\n",
    "delinquents.describe().T"
   ]
  },
  {
   "cell_type": "code",
   "execution_count": 183,
   "metadata": {},
   "outputs": [
    {
     "data": {
      "text/plain": [
       "array([<matplotlib.axes._subplots.AxesSubplot object at 0x1a26321470>,\n",
       "       <matplotlib.axes._subplots.AxesSubplot object at 0x1a2646f0f0>],\n",
       "      dtype=object)"
      ]
     },
     "execution_count": 183,
     "metadata": {},
     "output_type": "execute_result"
    },
    {
     "data": {
      "image/png": "[encoded data removed]",
      "text/plain": [
       "<matplotlib.figure.Figure at 0x1a2560fb00>"
      ]
     },
     "metadata": {},
     "output_type": "display_data"
    }
   ],
   "source": [
    "# Feature 5: MonthlyIncome\n",
    "cs_train.hist(column='MonthlyIncome',by='SeriousDlqin2yrs',bins=100)"
   ]
  },
  {
   "cell_type": "code",
   "execution_count": 184,
   "metadata": {},
   "outputs": [
    {
     "data": {
      "text/plain": [
       "<seaborn.axisgrid.FacetGrid at 0x1a210cf748>"
      ]
     },
     "execution_count": 184,
     "metadata": {},
     "output_type": "execute_result"
    },
    {
     "data": {
      "image/png": "[encoded data removed]",
      "text/plain": [
       "<matplotlib.figure.Figure at 0x1a210f0fd0>"
      ]
     },
     "metadata": {},
     "output_type": "display_data"
    }
   ],
   "source": [
    "delinquency_by_income = cs_train[['MonthlyIncome', 'SeriousDlqin2yrs']].groupby(['MonthlyIncome', 'SeriousDlqin2yrs']).size().reset_index()\n",
    "delinquency_by_income.columns = ['MonthlyIncome', 'SeriousDlqin2yrs', 'count']\n",
    "sns.lmplot(x = 'MonthlyIncome', y = 'count', data = delinquency_by_income, hue = \"SeriousDlqin2yrs\", \n",
    "           palette=\"Set1\", fit_reg = False)"
   ]
  },
  {
   "cell_type": "markdown",
   "metadata": {},
   "source": [
    "Monthly Income may be a good predictor of the outcome"
   ]
  },
  {
   "cell_type": "code",
   "execution_count": 185,
   "metadata": {},
   "outputs": [
    {
     "data": {
      "text/html": [
       "<div>\n",
       "<style scoped>\n",
       "    .dataframe tbody tr th:only-of-type {\n",
       "        vertical-align: middle;\n",
       "    }\n",
       "\n",
       "    .dataframe tbody tr th {\n",
       "        vertical-align: top;\n",
       "    }\n",
       "\n",
       "    .dataframe thead th {\n",
       "        text-align: right;\n",
       "    }\n",
       "</style>\n",
       "<table border=\"1\" class=\"dataframe\">\n",
       "  <thead>\n",
       "    <tr style=\"text-align: right;\">\n",
       "      <th></th>\n",
       "      <th>count</th>\n",
       "      <th>mean</th>\n",
       "      <th>std</th>\n",
       "      <th>min</th>\n",
       "      <th>25%</th>\n",
       "      <th>50%</th>\n",
       "      <th>75%</th>\n",
       "      <th>max</th>\n",
       "    </tr>\n",
       "  </thead>\n",
       "  <tbody>\n",
       "    <tr>\n",
       "      <th>MonthlyIncome</th>\n",
       "      <td>3103.0</td>\n",
       "      <td>6706.258209</td>\n",
       "      <td>8965.201349</td>\n",
       "      <td>0.0</td>\n",
       "      <td>3069.0</td>\n",
       "      <td>5004.0</td>\n",
       "      <td>7915.5</td>\n",
       "      <td>250000.0</td>\n",
       "    </tr>\n",
       "    <tr>\n",
       "      <th>SeriousDlqin2yrs</th>\n",
       "      <td>3103.0</td>\n",
       "      <td>1.000000</td>\n",
       "      <td>0.000000</td>\n",
       "      <td>1.0</td>\n",
       "      <td>1.0</td>\n",
       "      <td>1.0</td>\n",
       "      <td>1.0</td>\n",
       "      <td>1.0</td>\n",
       "    </tr>\n",
       "    <tr>\n",
       "      <th>count</th>\n",
       "      <td>3103.0</td>\n",
       "      <td>3.231067</td>\n",
       "      <td>31.177283</td>\n",
       "      <td>1.0</td>\n",
       "      <td>1.0</td>\n",
       "      <td>1.0</td>\n",
       "      <td>2.0</td>\n",
       "      <td>1669.0</td>\n",
       "    </tr>\n",
       "  </tbody>\n",
       "</table>\n",
       "</div>"
      ],
      "text/plain": [
       "                   count         mean          std  min     25%     50%  \\\n",
       "MonthlyIncome     3103.0  6706.258209  8965.201349  0.0  3069.0  5004.0   \n",
       "SeriousDlqin2yrs  3103.0     1.000000     0.000000  1.0     1.0     1.0   \n",
       "count             3103.0     3.231067    31.177283  1.0     1.0     1.0   \n",
       "\n",
       "                     75%       max  \n",
       "MonthlyIncome     7915.5  250000.0  \n",
       "SeriousDlqin2yrs     1.0       1.0  \n",
       "count                2.0    1669.0  "
      ]
     },
     "execution_count": 185,
     "metadata": {},
     "output_type": "execute_result"
    }
   ],
   "source": [
    "delinquents=delinquency_by_income[(delinquency_by_income.SeriousDlqin2yrs==1)].sort_values(by='count', ascending=False)\n",
    "delinquents.describe().T"
   ]
  },
  {
   "cell_type": "code",
   "execution_count": 186,
   "metadata": {},
   "outputs": [
    {
     "data": {
      "text/plain": [
       "<matplotlib.axes._subplots.AxesSubplot at 0x1c27731b38>"
      ]
     },
     "execution_count": 186,
     "metadata": {},
     "output_type": "execute_result"
    },
    {
     "data": {
      "image/png": "[encoded data removed]",
      "text/plain": [
       "<matplotlib.figure.Figure at 0x111511588>"
      ]
     },
     "metadata": {},
     "output_type": "display_data"
    }
   ],
   "source": [
    "cs_train['MonthlyIncome'].hist(bins=1000)"
   ]
  },
  {
   "cell_type": "code",
   "execution_count": 187,
   "metadata": {},
   "outputs": [
    {
     "data": {
      "text/plain": [
       "array([<matplotlib.axes._subplots.AxesSubplot object at 0x1a26b5c080>,\n",
       "       <matplotlib.axes._subplots.AxesSubplot object at 0x1c281e18d0>],\n",
       "      dtype=object)"
      ]
     },
     "execution_count": 187,
     "metadata": {},
     "output_type": "execute_result"
    },
    {
     "data": {
      "image/png": "[encoded data removed]",
      "text/plain": [
       "<matplotlib.figure.Figure at 0x1c27754f60>"
      ]
     },
     "metadata": {},
     "output_type": "display_data"
    }
   ],
   "source": [
    "# Feature 6: NumberOfOpenCreditLinesAndLoans\n",
    "cs_train.hist(column='NumberOfOpenCreditLinesAndLoans',by='SeriousDlqin2yrs',bins=50)"
   ]
  },
  {
   "cell_type": "code",
   "execution_count": 188,
   "metadata": {},
   "outputs": [
    {
     "data": {
      "text/plain": [
       "<seaborn.axisgrid.FacetGrid at 0x1a2635d828>"
      ]
     },
     "execution_count": 188,
     "metadata": {},
     "output_type": "execute_result"
    },
    {
     "data": {
      "image/png": "[encoded data removed]",
      "text/plain": [
       "<matplotlib.figure.Figure at 0x1a26365668>"
      ]
     },
     "metadata": {},
     "output_type": "display_data"
    }
   ],
   "source": [
    "delinquency_by_opencredits = cs_train[['NumberOfOpenCreditLinesAndLoans', 'SeriousDlqin2yrs']].groupby(['NumberOfOpenCreditLinesAndLoans', 'SeriousDlqin2yrs']).size().reset_index()\n",
    "delinquency_by_opencredits.columns = ['NumberOfOpenCreditLinesAndLoans', 'SeriousDlqin2yrs', 'count']\n",
    "sns.lmplot(x = 'NumberOfOpenCreditLinesAndLoans', y = 'count', data = delinquency_by_opencredits, hue = \"SeriousDlqin2yrs\", \n",
    "           palette=\"Set1\", fit_reg = False)"
   ]
  },
  {
   "cell_type": "markdown",
   "metadata": {},
   "source": [
    "'NumberOfOpenCreditLinesAndLoans' seems to be a good predictor of the outcome variable."
   ]
  },
  {
   "cell_type": "code",
   "execution_count": 189,
   "metadata": {},
   "outputs": [
    {
     "data": {
      "text/html": [
       "<div>\n",
       "<style scoped>\n",
       "    .dataframe tbody tr th:only-of-type {\n",
       "        vertical-align: middle;\n",
       "    }\n",
       "\n",
       "    .dataframe tbody tr th {\n",
       "        vertical-align: top;\n",
       "    }\n",
       "\n",
       "    .dataframe thead th {\n",
       "        text-align: right;\n",
       "    }\n",
       "</style>\n",
       "<table border=\"1\" class=\"dataframe\">\n",
       "  <thead>\n",
       "    <tr style=\"text-align: right;\">\n",
       "      <th></th>\n",
       "      <th>count</th>\n",
       "      <th>mean</th>\n",
       "      <th>std</th>\n",
       "      <th>min</th>\n",
       "      <th>25%</th>\n",
       "      <th>50%</th>\n",
       "      <th>75%</th>\n",
       "      <th>max</th>\n",
       "    </tr>\n",
       "  </thead>\n",
       "  <tbody>\n",
       "    <tr>\n",
       "      <th>NumberOfOpenCreditLinesAndLoans</th>\n",
       "      <td>47.0</td>\n",
       "      <td>23.765957</td>\n",
       "      <td>15.009001</td>\n",
       "      <td>0.0</td>\n",
       "      <td>11.5</td>\n",
       "      <td>23.0</td>\n",
       "      <td>34.5</td>\n",
       "      <td>57.0</td>\n",
       "    </tr>\n",
       "    <tr>\n",
       "      <th>SeriousDlqin2yrs</th>\n",
       "      <td>47.0</td>\n",
       "      <td>1.000000</td>\n",
       "      <td>0.000000</td>\n",
       "      <td>1.0</td>\n",
       "      <td>1.0</td>\n",
       "      <td>1.0</td>\n",
       "      <td>1.0</td>\n",
       "      <td>1.0</td>\n",
       "    </tr>\n",
       "    <tr>\n",
       "      <th>count</th>\n",
       "      <td>47.0</td>\n",
       "      <td>213.319149</td>\n",
       "      <td>277.936269</td>\n",
       "      <td>1.0</td>\n",
       "      <td>2.0</td>\n",
       "      <td>43.0</td>\n",
       "      <td>456.5</td>\n",
       "      <td>819.0</td>\n",
       "    </tr>\n",
       "  </tbody>\n",
       "</table>\n",
       "</div>"
      ],
      "text/plain": [
       "                                 count        mean         std  min   25%  \\\n",
       "NumberOfOpenCreditLinesAndLoans   47.0   23.765957   15.009001  0.0  11.5   \n",
       "SeriousDlqin2yrs                  47.0    1.000000    0.000000  1.0   1.0   \n",
       "count                             47.0  213.319149  277.936269  1.0   2.0   \n",
       "\n",
       "                                  50%    75%    max  \n",
       "NumberOfOpenCreditLinesAndLoans  23.0   34.5   57.0  \n",
       "SeriousDlqin2yrs                  1.0    1.0    1.0  \n",
       "count                            43.0  456.5  819.0  "
      ]
     },
     "execution_count": 189,
     "metadata": {},
     "output_type": "execute_result"
    }
   ],
   "source": [
    "delinquents=delinquency_by_opencredits[(delinquency_by_opencredits.SeriousDlqin2yrs==1)].sort_values(by='count', ascending=False)\n",
    "delinquents.describe().T"
   ]
  },
  {
   "cell_type": "code",
   "execution_count": 190,
   "metadata": {},
   "outputs": [
    {
     "data": {
      "text/plain": [
       "array([<matplotlib.axes._subplots.AxesSubplot object at 0x1c283ec0b8>,\n",
       "       <matplotlib.axes._subplots.AxesSubplot object at 0x1a2006a8d0>],\n",
       "      dtype=object)"
      ]
     },
     "execution_count": 190,
     "metadata": {},
     "output_type": "execute_result"
    },
    {
     "data": {
      "image/png": "[encoded data removed]",
      "text/plain": [
       "<matplotlib.figure.Figure at 0x1c299229e8>"
      ]
     },
     "metadata": {},
     "output_type": "display_data"
    }
   ],
   "source": [
    "# Feature 7: NumberOfTimes90DaysLate\n",
    "cs_train.hist(column='NumberOfTimes90DaysLate',by='SeriousDlqin2yrs',bins=100)"
   ]
  },
  {
   "cell_type": "code",
   "execution_count": 191,
   "metadata": {},
   "outputs": [
    {
     "data": {
      "text/plain": [
       "<seaborn.axisgrid.FacetGrid at 0x1c2855c470>"
      ]
     },
     "execution_count": 191,
     "metadata": {},
     "output_type": "execute_result"
    },
    {
     "data": {
      "image/png": "[encoded data removed]",
      "text/plain": [
       "<matplotlib.figure.Figure at 0x1c28588da0>"
      ]
     },
     "metadata": {},
     "output_type": "display_data"
    }
   ],
   "source": [
    "delinquency_by_latepmt = cs_train[['NumberOfTimes90DaysLate', 'SeriousDlqin2yrs']].groupby(['NumberOfTimes90DaysLate', 'SeriousDlqin2yrs']).size().reset_index()\n",
    "delinquency_by_latepmt.columns = ['NumberOfTimes90DaysLate', 'SeriousDlqin2yrs', 'count']\n",
    "sns.lmplot(x = 'NumberOfTimes90DaysLate', y = 'count', data = delinquency_by_latepmt, hue = \"SeriousDlqin2yrs\", \n",
    "           palette=\"Set1\", fit_reg = False)"
   ]
  },
  {
   "cell_type": "markdown",
   "metadata": {},
   "source": [
    "NumberOfTimes90DaysLate seems a good predictor of the outcome variable."
   ]
  },
  {
   "cell_type": "code",
   "execution_count": 192,
   "metadata": {},
   "outputs": [
    {
     "data": {
      "text/html": [
       "<div>\n",
       "<style scoped>\n",
       "    .dataframe tbody tr th:only-of-type {\n",
       "        vertical-align: middle;\n",
       "    }\n",
       "\n",
       "    .dataframe tbody tr th {\n",
       "        vertical-align: top;\n",
       "    }\n",
       "\n",
       "    .dataframe thead th {\n",
       "        text-align: right;\n",
       "    }\n",
       "</style>\n",
       "<table border=\"1\" class=\"dataframe\">\n",
       "  <thead>\n",
       "    <tr style=\"text-align: right;\">\n",
       "      <th></th>\n",
       "      <th>count</th>\n",
       "      <th>mean</th>\n",
       "      <th>std</th>\n",
       "      <th>min</th>\n",
       "      <th>25%</th>\n",
       "      <th>50%</th>\n",
       "      <th>75%</th>\n",
       "      <th>max</th>\n",
       "    </tr>\n",
       "  </thead>\n",
       "  <tbody>\n",
       "    <tr>\n",
       "      <th>NumberOfTimes90DaysLate</th>\n",
       "      <td>18.0</td>\n",
       "      <td>17.555556</td>\n",
       "      <td>29.282041</td>\n",
       "      <td>0.0</td>\n",
       "      <td>4.25</td>\n",
       "      <td>8.5</td>\n",
       "      <td>12.75</td>\n",
       "      <td>98.0</td>\n",
       "    </tr>\n",
       "    <tr>\n",
       "      <th>SeriousDlqin2yrs</th>\n",
       "      <td>18.0</td>\n",
       "      <td>1.000000</td>\n",
       "      <td>0.000000</td>\n",
       "      <td>1.0</td>\n",
       "      <td>1.00</td>\n",
       "      <td>1.0</td>\n",
       "      <td>1.00</td>\n",
       "      <td>1.0</td>\n",
       "    </tr>\n",
       "    <tr>\n",
       "      <th>count</th>\n",
       "      <td>18.0</td>\n",
       "      <td>557.000000</td>\n",
       "      <td>1558.754518</td>\n",
       "      <td>1.0</td>\n",
       "      <td>3.25</td>\n",
       "      <td>23.0</td>\n",
       "      <td>182.00</td>\n",
       "      <td>6554.0</td>\n",
       "    </tr>\n",
       "  </tbody>\n",
       "</table>\n",
       "</div>"
      ],
      "text/plain": [
       "                         count        mean          std  min   25%   50%  \\\n",
       "NumberOfTimes90DaysLate   18.0   17.555556    29.282041  0.0  4.25   8.5   \n",
       "SeriousDlqin2yrs          18.0    1.000000     0.000000  1.0  1.00   1.0   \n",
       "count                     18.0  557.000000  1558.754518  1.0  3.25  23.0   \n",
       "\n",
       "                            75%     max  \n",
       "NumberOfTimes90DaysLate   12.75    98.0  \n",
       "SeriousDlqin2yrs           1.00     1.0  \n",
       "count                    182.00  6554.0  "
      ]
     },
     "execution_count": 192,
     "metadata": {},
     "output_type": "execute_result"
    }
   ],
   "source": [
    "delinquents=delinquency_by_latepmt[(delinquency_by_latepmt.SeriousDlqin2yrs==1)].sort_values(by='count', ascending=False)\n",
    "delinquents.describe().T"
   ]
  },
  {
   "cell_type": "code",
   "execution_count": 193,
   "metadata": {},
   "outputs": [
    {
     "data": {
      "text/plain": [
       "array([<matplotlib.axes._subplots.AxesSubplot object at 0x1c2a09e208>,\n",
       "       <matplotlib.axes._subplots.AxesSubplot object at 0x1c2a291f60>],\n",
       "      dtype=object)"
      ]
     },
     "execution_count": 193,
     "metadata": {},
     "output_type": "execute_result"
    },
    {
     "data": {
      "image/png": "[encoded data removed]",
      "text/plain": [
       "<matplotlib.figure.Figure at 0x1c2853e5c0>"
      ]
     },
     "metadata": {},
     "output_type": "display_data"
    }
   ],
   "source": [
    "# Feature 8: NumberRealEstateLoansOrLines\n",
    "cs_train.hist(column='NumberRealEstateLoansOrLines',by='SeriousDlqin2yrs',bins=50)"
   ]
  },
  {
   "cell_type": "code",
   "execution_count": 194,
   "metadata": {},
   "outputs": [
    {
     "data": {
      "text/plain": [
       "<seaborn.axisgrid.FacetGrid at 0x1c2b985be0>"
      ]
     },
     "execution_count": 194,
     "metadata": {},
     "output_type": "execute_result"
    },
    {
     "data": {
      "image/png": "[encoded data removed]",
      "text/plain": [
       "<matplotlib.figure.Figure at 0x1c2f816240>"
      ]
     },
     "metadata": {},
     "output_type": "display_data"
    }
   ],
   "source": [
    "delinquency_by_realestateloans = cs_train[['NumberRealEstateLoansOrLines', 'SeriousDlqin2yrs']].groupby(['NumberRealEstateLoansOrLines', 'SeriousDlqin2yrs']).size().reset_index()\n",
    "delinquency_by_realestateloans.columns = ['NumberRealEstateLoansOrLines', 'SeriousDlqin2yrs', 'count']\n",
    "sns.lmplot(x = 'NumberRealEstateLoansOrLines', y = 'count', data = delinquency_by_realestateloans, hue = \"SeriousDlqin2yrs\", \n",
    "           palette=\"Set1\", fit_reg = False)"
   ]
  },
  {
   "cell_type": "markdown",
   "metadata": {},
   "source": [
    "NumberRealEstateLoansOrLines seems a good predictor of the outcome variable."
   ]
  },
  {
   "cell_type": "code",
   "execution_count": 195,
   "metadata": {},
   "outputs": [
    {
     "data": {
      "text/html": [
       "<div>\n",
       "<style scoped>\n",
       "    .dataframe tbody tr th:only-of-type {\n",
       "        vertical-align: middle;\n",
       "    }\n",
       "\n",
       "    .dataframe tbody tr th {\n",
       "        vertical-align: top;\n",
       "    }\n",
       "\n",
       "    .dataframe thead th {\n",
       "        text-align: right;\n",
       "    }\n",
       "</style>\n",
       "<table border=\"1\" class=\"dataframe\">\n",
       "  <thead>\n",
       "    <tr style=\"text-align: right;\">\n",
       "      <th></th>\n",
       "      <th>count</th>\n",
       "      <th>mean</th>\n",
       "      <th>std</th>\n",
       "      <th>min</th>\n",
       "      <th>25%</th>\n",
       "      <th>50%</th>\n",
       "      <th>75%</th>\n",
       "      <th>max</th>\n",
       "    </tr>\n",
       "  </thead>\n",
       "  <tbody>\n",
       "    <tr>\n",
       "      <th>NumberRealEstateLoansOrLines</th>\n",
       "      <td>20.0</td>\n",
       "      <td>10.65</td>\n",
       "      <td>7.902531</td>\n",
       "      <td>0.0</td>\n",
       "      <td>4.75</td>\n",
       "      <td>9.5</td>\n",
       "      <td>15.25</td>\n",
       "      <td>29.0</td>\n",
       "    </tr>\n",
       "    <tr>\n",
       "      <th>SeriousDlqin2yrs</th>\n",
       "      <td>20.0</td>\n",
       "      <td>1.00</td>\n",
       "      <td>0.000000</td>\n",
       "      <td>1.0</td>\n",
       "      <td>1.00</td>\n",
       "      <td>1.0</td>\n",
       "      <td>1.00</td>\n",
       "      <td>1.0</td>\n",
       "    </tr>\n",
       "    <tr>\n",
       "      <th>count</th>\n",
       "      <td>20.0</td>\n",
       "      <td>501.30</td>\n",
       "      <td>1207.323752</td>\n",
       "      <td>1.0</td>\n",
       "      <td>1.75</td>\n",
       "      <td>10.0</td>\n",
       "      <td>110.75</td>\n",
       "      <td>4672.0</td>\n",
       "    </tr>\n",
       "  </tbody>\n",
       "</table>\n",
       "</div>"
      ],
      "text/plain": [
       "                              count    mean          std  min   25%   50%  \\\n",
       "NumberRealEstateLoansOrLines   20.0   10.65     7.902531  0.0  4.75   9.5   \n",
       "SeriousDlqin2yrs               20.0    1.00     0.000000  1.0  1.00   1.0   \n",
       "count                          20.0  501.30  1207.323752  1.0  1.75  10.0   \n",
       "\n",
       "                                 75%     max  \n",
       "NumberRealEstateLoansOrLines   15.25    29.0  \n",
       "SeriousDlqin2yrs                1.00     1.0  \n",
       "count                         110.75  4672.0  "
      ]
     },
     "execution_count": 195,
     "metadata": {},
     "output_type": "execute_result"
    }
   ],
   "source": [
    "delinquents=delinquency_by_realestateloans[(delinquency_by_realestateloans.SeriousDlqin2yrs==1)].sort_values(by='count', ascending=False)\n",
    "delinquents.describe().T"
   ]
  },
  {
   "cell_type": "code",
   "execution_count": 196,
   "metadata": {},
   "outputs": [
    {
     "data": {
      "text/plain": [
       "array([<matplotlib.axes._subplots.AxesSubplot object at 0x1c2f8ab390>,\n",
       "       <matplotlib.axes._subplots.AxesSubplot object at 0x1c2f8e39b0>],\n",
       "      dtype=object)"
      ]
     },
     "execution_count": 196,
     "metadata": {},
     "output_type": "execute_result"
    },
    {
     "data": {
      "image/png": "[encoded data removed]",
      "text/plain": [
       "<matplotlib.figure.Figure at 0x1c2b95cc88>"
      ]
     },
     "metadata": {},
     "output_type": "display_data"
    }
   ],
   "source": [
    "# Feature 9: NumberOfTime60-89DaysPastDueNotWorse\n",
    "cs_train.hist(column='NumberOfTime60-89DaysPastDueNotWorse',by='SeriousDlqin2yrs',bins=50)"
   ]
  },
  {
   "cell_type": "code",
   "execution_count": 197,
   "metadata": {},
   "outputs": [
    {
     "data": {
      "text/plain": [
       "<seaborn.axisgrid.FacetGrid at 0x1c2f895438>"
      ]
     },
     "execution_count": 197,
     "metadata": {},
     "output_type": "execute_result"
    },
    {
     "data": {
      "image/png": "[encoded data removed]",
      "text/plain": [
       "<matplotlib.figure.Figure at 0x1c310d9cc0>"
      ]
     },
     "metadata": {},
     "output_type": "display_data"
    }
   ],
   "source": [
    "delinquency_by_longpastdue = cs_train[['NumberOfTime60-89DaysPastDueNotWorse', 'SeriousDlqin2yrs']].groupby(['NumberOfTime60-89DaysPastDueNotWorse', 'SeriousDlqin2yrs']).size().reset_index()\n",
    "delinquency_by_longpastdue.columns = ['NumberOfTime60-89DaysPastDueNotWorse', 'SeriousDlqin2yrs', 'count']\n",
    "sns.lmplot(x = 'NumberOfTime60-89DaysPastDueNotWorse', y = 'count', data = delinquency_by_longpastdue, hue = \"SeriousDlqin2yrs\", \n",
    "           palette=\"Set1\", fit_reg = False)"
   ]
  },
  {
   "cell_type": "markdown",
   "metadata": {},
   "source": [
    "NumberOfTime60-89DaysPastDueNotWorse may not be a good predictor of the outcome."
   ]
  },
  {
   "cell_type": "code",
   "execution_count": 198,
   "metadata": {},
   "outputs": [
    {
     "data": {
      "text/html": [
       "<div>\n",
       "<style scoped>\n",
       "    .dataframe tbody tr th:only-of-type {\n",
       "        vertical-align: middle;\n",
       "    }\n",
       "\n",
       "    .dataframe tbody tr th {\n",
       "        vertical-align: top;\n",
       "    }\n",
       "\n",
       "    .dataframe thead th {\n",
       "        text-align: right;\n",
       "    }\n",
       "</style>\n",
       "<table border=\"1\" class=\"dataframe\">\n",
       "  <thead>\n",
       "    <tr style=\"text-align: right;\">\n",
       "      <th></th>\n",
       "      <th>count</th>\n",
       "      <th>mean</th>\n",
       "      <th>std</th>\n",
       "      <th>min</th>\n",
       "      <th>25%</th>\n",
       "      <th>50%</th>\n",
       "      <th>75%</th>\n",
       "      <th>max</th>\n",
       "    </tr>\n",
       "  </thead>\n",
       "  <tbody>\n",
       "    <tr>\n",
       "      <th>NumberOfTime60-89DaysPastDueNotWorse</th>\n",
       "      <td>12.0</td>\n",
       "      <td>20.083333</td>\n",
       "      <td>36.061711</td>\n",
       "      <td>0.0</td>\n",
       "      <td>2.75</td>\n",
       "      <td>5.5</td>\n",
       "      <td>8.75</td>\n",
       "      <td>98.0</td>\n",
       "    </tr>\n",
       "    <tr>\n",
       "      <th>SeriousDlqin2yrs</th>\n",
       "      <td>12.0</td>\n",
       "      <td>1.000000</td>\n",
       "      <td>0.000000</td>\n",
       "      <td>1.0</td>\n",
       "      <td>1.00</td>\n",
       "      <td>1.0</td>\n",
       "      <td>1.00</td>\n",
       "      <td>1.0</td>\n",
       "    </tr>\n",
       "    <tr>\n",
       "      <th>count</th>\n",
       "      <td>12.0</td>\n",
       "      <td>835.500000</td>\n",
       "      <td>2084.640039</td>\n",
       "      <td>1.0</td>\n",
       "      <td>4.75</td>\n",
       "      <td>43.0</td>\n",
       "      <td>275.25</td>\n",
       "      <td>7256.0</td>\n",
       "    </tr>\n",
       "  </tbody>\n",
       "</table>\n",
       "</div>"
      ],
      "text/plain": [
       "                                      count        mean          std  min  \\\n",
       "NumberOfTime60-89DaysPastDueNotWorse   12.0   20.083333    36.061711  0.0   \n",
       "SeriousDlqin2yrs                       12.0    1.000000     0.000000  1.0   \n",
       "count                                  12.0  835.500000  2084.640039  1.0   \n",
       "\n",
       "                                       25%   50%     75%     max  \n",
       "NumberOfTime60-89DaysPastDueNotWorse  2.75   5.5    8.75    98.0  \n",
       "SeriousDlqin2yrs                      1.00   1.0    1.00     1.0  \n",
       "count                                 4.75  43.0  275.25  7256.0  "
      ]
     },
     "execution_count": 198,
     "metadata": {},
     "output_type": "execute_result"
    }
   ],
   "source": [
    "delinquents=delinquency_by_longpastdue[(delinquency_by_longpastdue.SeriousDlqin2yrs==1)].sort_values(by='count', ascending=False)\n",
    "delinquents.describe().T"
   ]
  },
  {
   "cell_type": "code",
   "execution_count": 199,
   "metadata": {},
   "outputs": [
    {
     "data": {
      "text/plain": [
       "array([<matplotlib.axes._subplots.AxesSubplot object at 0x1c31213b70>,\n",
       "       <matplotlib.axes._subplots.AxesSubplot object at 0x1c312ef9b0>],\n",
       "      dtype=object)"
      ]
     },
     "execution_count": 199,
     "metadata": {},
     "output_type": "execute_result"
    },
    {
     "data": {
      "image/png": "[encoded data removed]",
      "text/plain": [
       "<matplotlib.figure.Figure at 0x1c31164a90>"
      ]
     },
     "metadata": {},
     "output_type": "display_data"
    }
   ],
   "source": [
    "# Feature 10: NumberOfDependents\n",
    "cs_train.hist(column='NumberOfDependents',by='SeriousDlqin2yrs',bins=50)"
   ]
  },
  {
   "cell_type": "code",
   "execution_count": 200,
   "metadata": {},
   "outputs": [
    {
     "data": {
      "text/plain": [
       "<seaborn.axisgrid.FacetGrid at 0x1c31367b70>"
      ]
     },
     "execution_count": 200,
     "metadata": {},
     "output_type": "execute_result"
    },
    {
     "data": {
      "image/png": "[encoded data removed]",
      "text/plain": [
       "<matplotlib.figure.Figure at 0x1c3158f2e8>"
      ]
     },
     "metadata": {},
     "output_type": "display_data"
    }
   ],
   "source": [
    "delinquency_by_dependents = cs_train[['NumberOfDependents', 'SeriousDlqin2yrs']].groupby(['NumberOfDependents', 'SeriousDlqin2yrs']).size().reset_index()\n",
    "delinquency_by_dependents.columns = ['NumberOfDependents', 'SeriousDlqin2yrs', 'count']\n",
    "sns.lmplot(x = 'NumberOfDependents', y = 'count', data = delinquency_by_dependents, hue = \"SeriousDlqin2yrs\", \n",
    "           palette=\"Set1\", fit_reg = False)"
   ]
  },
  {
   "cell_type": "markdown",
   "metadata": {},
   "source": [
    "NumberOfDependents seems to be a good predictor of the outcome variable."
   ]
  },
  {
   "cell_type": "code",
   "execution_count": 201,
   "metadata": {},
   "outputs": [
    {
     "data": {
      "text/html": [
       "<div>\n",
       "<style scoped>\n",
       "    .dataframe tbody tr th:only-of-type {\n",
       "        vertical-align: middle;\n",
       "    }\n",
       "\n",
       "    .dataframe tbody tr th {\n",
       "        vertical-align: top;\n",
       "    }\n",
       "\n",
       "    .dataframe thead th {\n",
       "        text-align: right;\n",
       "    }\n",
       "</style>\n",
       "<table border=\"1\" class=\"dataframe\">\n",
       "  <thead>\n",
       "    <tr style=\"text-align: right;\">\n",
       "      <th></th>\n",
       "      <th>count</th>\n",
       "      <th>mean</th>\n",
       "      <th>std</th>\n",
       "      <th>min</th>\n",
       "      <th>25%</th>\n",
       "      <th>50%</th>\n",
       "      <th>75%</th>\n",
       "      <th>max</th>\n",
       "    </tr>\n",
       "  </thead>\n",
       "  <tbody>\n",
       "    <tr>\n",
       "      <th>NumberOfDependents</th>\n",
       "      <td>10.0</td>\n",
       "      <td>3.675722</td>\n",
       "      <td>2.778170</td>\n",
       "      <td>0.0</td>\n",
       "      <td>1.25</td>\n",
       "      <td>3.5</td>\n",
       "      <td>5.75</td>\n",
       "      <td>8.0</td>\n",
       "    </tr>\n",
       "    <tr>\n",
       "      <th>SeriousDlqin2yrs</th>\n",
       "      <td>10.0</td>\n",
       "      <td>1.000000</td>\n",
       "      <td>0.000000</td>\n",
       "      <td>1.0</td>\n",
       "      <td>1.00</td>\n",
       "      <td>1.0</td>\n",
       "      <td>1.00</td>\n",
       "      <td>1.0</td>\n",
       "    </tr>\n",
       "    <tr>\n",
       "      <th>count</th>\n",
       "      <td>10.0</td>\n",
       "      <td>1002.600000</td>\n",
       "      <td>1598.133856</td>\n",
       "      <td>2.0</td>\n",
       "      <td>35.00</td>\n",
       "      <td>238.0</td>\n",
       "      <td>1397.25</td>\n",
       "      <td>5095.0</td>\n",
       "    </tr>\n",
       "  </tbody>\n",
       "</table>\n",
       "</div>"
      ],
      "text/plain": [
       "                    count         mean          std  min    25%    50%  \\\n",
       "NumberOfDependents   10.0     3.675722     2.778170  0.0   1.25    3.5   \n",
       "SeriousDlqin2yrs     10.0     1.000000     0.000000  1.0   1.00    1.0   \n",
       "count                10.0  1002.600000  1598.133856  2.0  35.00  238.0   \n",
       "\n",
       "                        75%     max  \n",
       "NumberOfDependents     5.75     8.0  \n",
       "SeriousDlqin2yrs       1.00     1.0  \n",
       "count               1397.25  5095.0  "
      ]
     },
     "execution_count": 201,
     "metadata": {},
     "output_type": "execute_result"
    }
   ],
   "source": [
    "delinquents=delinquency_by_dependents[(delinquency_by_dependents.SeriousDlqin2yrs==1)].sort_values(by='count', ascending=False)\n",
    "delinquents.describe().T"
   ]
  },
  {
   "cell_type": "markdown",
   "metadata": {},
   "source": [
    "# Predictors & Response variables"
   ]
  },
  {
   "cell_type": "code",
   "execution_count": 202,
   "metadata": {},
   "outputs": [],
   "source": [
    "cs_train_vars=cs_train.columns.values.tolist()\n",
    "y=['SeriousDlqin2yrs']\n",
    "X=[i for i in cs_train_vars if i not in y]"
   ]
  },
  {
   "cell_type": "markdown",
   "metadata": {},
   "source": [
    "# Feature Selection"
   ]
  },
  {
   "cell_type": "code",
   "execution_count": 203,
   "metadata": {},
   "outputs": [
    {
     "name": "stdout",
     "output_type": "stream",
     "text": [
      "[ True  True  True  True  True  True  True  True  True  True]\n",
      "[1 1 1 1 1 1 1 1 1 1]\n"
     ]
    }
   ],
   "source": [
    "from sklearn.feature_selection import RFE\n",
    "logreg = LogisticRegression()\n",
    "rfe = RFE(logreg, 18)\n",
    "rfe = rfe.fit(cs_train[X], cs_train[y].values.ravel() )\n",
    "print(rfe.support_)\n",
    "print(rfe.ranking_)"
   ]
  },
  {
   "cell_type": "markdown",
   "metadata": {},
   "source": [
    "RFE suggests using all the features. Hence, we will try and model first using all the features and then re-model using the EDA insights we have gathered above and then compare the two models to arrive at the final model."
   ]
  },
  {
   "cell_type": "markdown",
   "metadata": {},
   "source": [
    "# Implementing the model"
   ]
  },
  {
   "cell_type": "code",
   "execution_count": 204,
   "metadata": {},
   "outputs": [
    {
     "name": "stdout",
     "output_type": "stream",
     "text": [
      "Optimization terminated successfully.\n",
      "         Current function value: 0.228500\n",
      "         Iterations 7\n",
      "                           Logit Regression Results                           \n",
      "==============================================================================\n",
      "Dep. Variable:                      y   No. Observations:               150000\n",
      "Model:                          Logit   Df Residuals:                   149990\n",
      "Method:                           MLE   Df Model:                            9\n",
      "Date:                Mon, 27 Aug 2018   Pseudo R-squ.:                 0.06882\n",
      "Time:                        19:45:53   Log-Likelihood:                -34275.\n",
      "converged:                       True   LL-Null:                       -36808.\n",
      "                                        LLR p-value:                     0.000\n",
      "========================================================================================================\n",
      "                                           coef    std err          z      P>|z|      [0.025      0.975]\n",
      "--------------------------------------------------------------------------------------------------------\n",
      "RevolvingUtilizationOfUnsecuredLines -5.907e-05   6.63e-05     -0.891      0.373      -0.000    7.08e-05\n",
      "age                                     -0.0501      0.001    -93.018      0.000      -0.051      -0.049\n",
      "NumberOfTime30-59DaysPastDueNotWorse     0.4910      0.011     43.854      0.000       0.469       0.513\n",
      "DebtRatio                            -2.349e-05   1.04e-05     -2.266      0.023   -4.38e-05   -3.17e-06\n",
      "MonthlyIncome                         -5.47e-05   3.29e-06    -16.634      0.000   -6.11e-05   -4.83e-05\n",
      "NumberOfOpenCreditLinesAndLoans         -0.0212      0.003     -8.205      0.000      -0.026      -0.016\n",
      "NumberOfTimes90DaysLate                  0.4205      0.015     28.121      0.000       0.391       0.450\n",
      "NumberRealEstateLoansOrLines             0.1011      0.011      9.544      0.000       0.080       0.122\n",
      "NumberOfTime60-89DaysPastDueNotWorse    -0.8839      0.018    -50.470      0.000      -0.918      -0.850\n",
      "NumberOfDependents                       0.0333      0.009      3.707      0.000       0.016       0.051\n",
      "========================================================================================================\n"
     ]
    }
   ],
   "source": [
    "stats.chisqprob = lambda chisq, df: stats.chi2.sf(chisq, df)\n",
    "import statsmodels.api as sm\n",
    "logit_model=sm.Logit(cs_train[y].values.ravel(),cs_train[X])\n",
    "result=logit_model.fit()\n",
    "print(result.summary())"
   ]
  },
  {
   "cell_type": "markdown",
   "metadata": {},
   "source": [
    "The p-values for most of the variables are smaller than 0.05, therefore, most of them are significant to the model."
   ]
  },
  {
   "cell_type": "markdown",
   "metadata": {},
   "source": [
    "## Logistic Regression Model Fitting"
   ]
  },
  {
   "cell_type": "code",
   "execution_count": 205,
   "metadata": {},
   "outputs": [
    {
     "data": {
      "text/plain": [
       "LogisticRegression(C=1.0, class_weight=None, dual=False, fit_intercept=True,\n",
       "          intercept_scaling=1, max_iter=100, multi_class='ovr', n_jobs=1,\n",
       "          penalty='l2', random_state=None, solver='liblinear', tol=0.0001,\n",
       "          verbose=0, warm_start=False)"
      ]
     },
     "execution_count": 205,
     "metadata": {},
     "output_type": "execute_result"
    }
   ],
   "source": [
    "from sklearn import metrics\n",
    "logreg = LogisticRegression()\n",
    "logreg.fit(cs_train[X], cs_train[y].values.ravel())"
   ]
  },
  {
   "cell_type": "code",
   "execution_count": 243,
   "metadata": {},
   "outputs": [
    {
     "data": {
      "text/html": [
       "<div>\n",
       "<style scoped>\n",
       "    .dataframe tbody tr th:only-of-type {\n",
       "        vertical-align: middle;\n",
       "    }\n",
       "\n",
       "    .dataframe tbody tr th {\n",
       "        vertical-align: top;\n",
       "    }\n",
       "\n",
       "    .dataframe thead th {\n",
       "        text-align: right;\n",
       "    }\n",
       "</style>\n",
       "<table border=\"1\" class=\"dataframe\">\n",
       "  <thead>\n",
       "    <tr style=\"text-align: right;\">\n",
       "      <th></th>\n",
       "      <th>Unnamed: 0</th>\n",
       "      <th>SeriousDlqin2yrs</th>\n",
       "      <th>RevolvingUtilizationOfUnsecuredLines</th>\n",
       "      <th>age</th>\n",
       "      <th>NumberOfTime30-59DaysPastDueNotWorse</th>\n",
       "      <th>DebtRatio</th>\n",
       "      <th>MonthlyIncome</th>\n",
       "      <th>NumberOfOpenCreditLinesAndLoans</th>\n",
       "      <th>NumberOfTimes90DaysLate</th>\n",
       "      <th>NumberRealEstateLoansOrLines</th>\n",
       "      <th>NumberOfTime60-89DaysPastDueNotWorse</th>\n",
       "      <th>NumberOfDependents</th>\n",
       "    </tr>\n",
       "  </thead>\n",
       "  <tbody>\n",
       "    <tr>\n",
       "      <th>0</th>\n",
       "      <td>1</td>\n",
       "      <td>NaN</td>\n",
       "      <td>0.885519</td>\n",
       "      <td>43</td>\n",
       "      <td>0</td>\n",
       "      <td>0.177513</td>\n",
       "      <td>5700.0</td>\n",
       "      <td>4</td>\n",
       "      <td>0</td>\n",
       "      <td>0</td>\n",
       "      <td>0</td>\n",
       "      <td>0.0</td>\n",
       "    </tr>\n",
       "    <tr>\n",
       "      <th>1</th>\n",
       "      <td>2</td>\n",
       "      <td>NaN</td>\n",
       "      <td>0.463295</td>\n",
       "      <td>57</td>\n",
       "      <td>0</td>\n",
       "      <td>0.527237</td>\n",
       "      <td>9141.0</td>\n",
       "      <td>15</td>\n",
       "      <td>0</td>\n",
       "      <td>4</td>\n",
       "      <td>0</td>\n",
       "      <td>2.0</td>\n",
       "    </tr>\n",
       "    <tr>\n",
       "      <th>2</th>\n",
       "      <td>3</td>\n",
       "      <td>NaN</td>\n",
       "      <td>0.043275</td>\n",
       "      <td>59</td>\n",
       "      <td>0</td>\n",
       "      <td>0.687648</td>\n",
       "      <td>5083.0</td>\n",
       "      <td>12</td>\n",
       "      <td>0</td>\n",
       "      <td>1</td>\n",
       "      <td>0</td>\n",
       "      <td>2.0</td>\n",
       "    </tr>\n",
       "    <tr>\n",
       "      <th>3</th>\n",
       "      <td>4</td>\n",
       "      <td>NaN</td>\n",
       "      <td>0.280308</td>\n",
       "      <td>38</td>\n",
       "      <td>1</td>\n",
       "      <td>0.925961</td>\n",
       "      <td>3200.0</td>\n",
       "      <td>7</td>\n",
       "      <td>0</td>\n",
       "      <td>2</td>\n",
       "      <td>0</td>\n",
       "      <td>0.0</td>\n",
       "    </tr>\n",
       "    <tr>\n",
       "      <th>4</th>\n",
       "      <td>5</td>\n",
       "      <td>NaN</td>\n",
       "      <td>1.000000</td>\n",
       "      <td>27</td>\n",
       "      <td>0</td>\n",
       "      <td>0.019917</td>\n",
       "      <td>3865.0</td>\n",
       "      <td>4</td>\n",
       "      <td>0</td>\n",
       "      <td>0</td>\n",
       "      <td>0</td>\n",
       "      <td>1.0</td>\n",
       "    </tr>\n",
       "  </tbody>\n",
       "</table>\n",
       "</div>"
      ],
      "text/plain": [
       "   Unnamed: 0  SeriousDlqin2yrs  RevolvingUtilizationOfUnsecuredLines  age  \\\n",
       "0           1               NaN                              0.885519   43   \n",
       "1           2               NaN                              0.463295   57   \n",
       "2           3               NaN                              0.043275   59   \n",
       "3           4               NaN                              0.280308   38   \n",
       "4           5               NaN                              1.000000   27   \n",
       "\n",
       "   NumberOfTime30-59DaysPastDueNotWorse  DebtRatio  MonthlyIncome  \\\n",
       "0                                     0   0.177513         5700.0   \n",
       "1                                     0   0.527237         9141.0   \n",
       "2                                     0   0.687648         5083.0   \n",
       "3                                     1   0.925961         3200.0   \n",
       "4                                     0   0.019917         3865.0   \n",
       "\n",
       "   NumberOfOpenCreditLinesAndLoans  NumberOfTimes90DaysLate  \\\n",
       "0                                4                        0   \n",
       "1                               15                        0   \n",
       "2                               12                        0   \n",
       "3                                7                        0   \n",
       "4                                4                        0   \n",
       "\n",
       "   NumberRealEstateLoansOrLines  NumberOfTime60-89DaysPastDueNotWorse  \\\n",
       "0                             0                                     0   \n",
       "1                             4                                     0   \n",
       "2                             1                                     0   \n",
       "3                             2                                     0   \n",
       "4                             0                                     0   \n",
       "\n",
       "   NumberOfDependents  \n",
       "0                 0.0  \n",
       "1                 2.0  \n",
       "2                 2.0  \n",
       "3                 0.0  \n",
       "4                 1.0  "
      ]
     },
     "execution_count": 243,
     "metadata": {},
     "output_type": "execute_result"
    }
   ],
   "source": [
    "# Load the test data\n",
    "cs_test = pd.read_csv( 'cs-test.csv' )\n",
    "cs_test.head()"
   ]
  },
  {
   "cell_type": "code",
   "execution_count": 244,
   "metadata": {},
   "outputs": [
    {
     "data": {
      "text/plain": [
       "(101503, 12)"
      ]
     },
     "execution_count": 244,
     "metadata": {},
     "output_type": "execute_result"
    }
   ],
   "source": [
    "cs_test.shape"
   ]
  },
  {
   "cell_type": "code",
   "execution_count": 245,
   "metadata": {},
   "outputs": [],
   "source": [
    "# rename the id column\n",
    "cs_test.rename(columns={'Unnamed: 0':'Id'},inplace=True)"
   ]
  },
  {
   "cell_type": "code",
   "execution_count": 246,
   "metadata": {},
   "outputs": [
    {
     "data": {
      "text/plain": [
       "Id                                           0\n",
       "SeriousDlqin2yrs                        101503\n",
       "RevolvingUtilizationOfUnsecuredLines         0\n",
       "age                                          0\n",
       "NumberOfTime30-59DaysPastDueNotWorse         0\n",
       "DebtRatio                                    0\n",
       "MonthlyIncome                            20103\n",
       "NumberOfOpenCreditLinesAndLoans              0\n",
       "NumberOfTimes90DaysLate                      0\n",
       "NumberRealEstateLoansOrLines                 0\n",
       "NumberOfTime60-89DaysPastDueNotWorse         0\n",
       "NumberOfDependents                        2626\n",
       "dtype: int64"
      ]
     },
     "execution_count": 246,
     "metadata": {},
     "output_type": "execute_result"
    }
   ],
   "source": [
    "cs_test.isnull().sum()"
   ]
  },
  {
   "cell_type": "code",
   "execution_count": 247,
   "metadata": {},
   "outputs": [],
   "source": [
    "# impute missing values\n",
    "cs_test.fillna(cs_test.mean(), inplace=True)"
   ]
  },
  {
   "cell_type": "code",
   "execution_count": 248,
   "metadata": {},
   "outputs": [],
   "source": [
    "cs_test_vars=cs_test.columns.values.tolist()\n",
    "y_test=['SeriousDlqin2yrs']\n",
    "X_test=[i for i in cs_test_vars if i not in y]\n",
    "X_test.remove('Id')"
   ]
  },
  {
   "cell_type": "code",
   "execution_count": 249,
   "metadata": {},
   "outputs": [],
   "source": [
    "y_pred = logreg.predict(cs_test[X_test])\n",
    "#print('Accuracy of logistic regression classifier on test set: {:.2f}'.format(logreg.score(cs_test[X_test], cs_test[y_test])))"
   ]
  },
  {
   "cell_type": "code",
   "execution_count": 250,
   "metadata": {},
   "outputs": [],
   "source": [
    "# Populate the outcome variable with the predicted values\n",
    "cs_test.SeriousDlqin2yrs = y_pred"
   ]
  },
  {
   "cell_type": "code",
   "execution_count": 251,
   "metadata": {},
   "outputs": [
    {
     "data": {
      "text/html": [
       "<div>\n",
       "<style scoped>\n",
       "    .dataframe tbody tr th:only-of-type {\n",
       "        vertical-align: middle;\n",
       "    }\n",
       "\n",
       "    .dataframe tbody tr th {\n",
       "        vertical-align: top;\n",
       "    }\n",
       "\n",
       "    .dataframe thead th {\n",
       "        text-align: right;\n",
       "    }\n",
       "</style>\n",
       "<table border=\"1\" class=\"dataframe\">\n",
       "  <thead>\n",
       "    <tr style=\"text-align: right;\">\n",
       "      <th></th>\n",
       "      <th>Id</th>\n",
       "      <th>SeriousDlqin2yrs</th>\n",
       "      <th>RevolvingUtilizationOfUnsecuredLines</th>\n",
       "      <th>age</th>\n",
       "      <th>NumberOfTime30-59DaysPastDueNotWorse</th>\n",
       "      <th>DebtRatio</th>\n",
       "      <th>MonthlyIncome</th>\n",
       "      <th>NumberOfOpenCreditLinesAndLoans</th>\n",
       "      <th>NumberOfTimes90DaysLate</th>\n",
       "      <th>NumberRealEstateLoansOrLines</th>\n",
       "      <th>NumberOfTime60-89DaysPastDueNotWorse</th>\n",
       "      <th>NumberOfDependents</th>\n",
       "    </tr>\n",
       "  </thead>\n",
       "  <tbody>\n",
       "    <tr>\n",
       "      <th>0</th>\n",
       "      <td>1</td>\n",
       "      <td>0</td>\n",
       "      <td>0.885519</td>\n",
       "      <td>43</td>\n",
       "      <td>0</td>\n",
       "      <td>0.177513</td>\n",
       "      <td>5700.0</td>\n",
       "      <td>4</td>\n",
       "      <td>0</td>\n",
       "      <td>0</td>\n",
       "      <td>0</td>\n",
       "      <td>0.0</td>\n",
       "    </tr>\n",
       "    <tr>\n",
       "      <th>1</th>\n",
       "      <td>2</td>\n",
       "      <td>0</td>\n",
       "      <td>0.463295</td>\n",
       "      <td>57</td>\n",
       "      <td>0</td>\n",
       "      <td>0.527237</td>\n",
       "      <td>9141.0</td>\n",
       "      <td>15</td>\n",
       "      <td>0</td>\n",
       "      <td>4</td>\n",
       "      <td>0</td>\n",
       "      <td>2.0</td>\n",
       "    </tr>\n",
       "    <tr>\n",
       "      <th>2</th>\n",
       "      <td>3</td>\n",
       "      <td>0</td>\n",
       "      <td>0.043275</td>\n",
       "      <td>59</td>\n",
       "      <td>0</td>\n",
       "      <td>0.687648</td>\n",
       "      <td>5083.0</td>\n",
       "      <td>12</td>\n",
       "      <td>0</td>\n",
       "      <td>1</td>\n",
       "      <td>0</td>\n",
       "      <td>2.0</td>\n",
       "    </tr>\n",
       "    <tr>\n",
       "      <th>3</th>\n",
       "      <td>4</td>\n",
       "      <td>0</td>\n",
       "      <td>0.280308</td>\n",
       "      <td>38</td>\n",
       "      <td>1</td>\n",
       "      <td>0.925961</td>\n",
       "      <td>3200.0</td>\n",
       "      <td>7</td>\n",
       "      <td>0</td>\n",
       "      <td>2</td>\n",
       "      <td>0</td>\n",
       "      <td>0.0</td>\n",
       "    </tr>\n",
       "    <tr>\n",
       "      <th>4</th>\n",
       "      <td>5</td>\n",
       "      <td>0</td>\n",
       "      <td>1.000000</td>\n",
       "      <td>27</td>\n",
       "      <td>0</td>\n",
       "      <td>0.019917</td>\n",
       "      <td>3865.0</td>\n",
       "      <td>4</td>\n",
       "      <td>0</td>\n",
       "      <td>0</td>\n",
       "      <td>0</td>\n",
       "      <td>1.0</td>\n",
       "    </tr>\n",
       "  </tbody>\n",
       "</table>\n",
       "</div>"
      ],
      "text/plain": [
       "   Id  SeriousDlqin2yrs  RevolvingUtilizationOfUnsecuredLines  age  \\\n",
       "0   1                 0                              0.885519   43   \n",
       "1   2                 0                              0.463295   57   \n",
       "2   3                 0                              0.043275   59   \n",
       "3   4                 0                              0.280308   38   \n",
       "4   5                 0                              1.000000   27   \n",
       "\n",
       "   NumberOfTime30-59DaysPastDueNotWorse  DebtRatio  MonthlyIncome  \\\n",
       "0                                     0   0.177513         5700.0   \n",
       "1                                     0   0.527237         9141.0   \n",
       "2                                     0   0.687648         5083.0   \n",
       "3                                     1   0.925961         3200.0   \n",
       "4                                     0   0.019917         3865.0   \n",
       "\n",
       "   NumberOfOpenCreditLinesAndLoans  NumberOfTimes90DaysLate  \\\n",
       "0                                4                        0   \n",
       "1                               15                        0   \n",
       "2                               12                        0   \n",
       "3                                7                        0   \n",
       "4                                4                        0   \n",
       "\n",
       "   NumberRealEstateLoansOrLines  NumberOfTime60-89DaysPastDueNotWorse  \\\n",
       "0                             0                                     0   \n",
       "1                             4                                     0   \n",
       "2                             1                                     0   \n",
       "3                             2                                     0   \n",
       "4                             0                                     0   \n",
       "\n",
       "   NumberOfDependents  \n",
       "0                 0.0  \n",
       "1                 2.0  \n",
       "2                 2.0  \n",
       "3                 0.0  \n",
       "4                 1.0  "
      ]
     },
     "execution_count": 251,
     "metadata": {},
     "output_type": "execute_result"
    }
   ],
   "source": [
    "cs_test.head()"
   ]
  },
  {
   "cell_type": "code",
   "execution_count": 252,
   "metadata": {},
   "outputs": [
    {
     "data": {
      "text/plain": [
       "0    101290\n",
       "1       213\n",
       "Name: SeriousDlqin2yrs, dtype: int64"
      ]
     },
     "execution_count": 252,
     "metadata": {},
     "output_type": "execute_result"
    }
   ],
   "source": [
    "cs_test.SeriousDlqin2yrs.value_counts()"
   ]
  },
  {
   "cell_type": "code",
   "execution_count": 253,
   "metadata": {},
   "outputs": [
    {
     "data": {
      "text/plain": [
       "array([[0.92310431, 0.07689569],\n",
       "       [0.95466812, 0.04533188],\n",
       "       [0.9577153 , 0.0422847 ],\n",
       "       ...,\n",
       "       [0.97658277, 0.02341723],\n",
       "       [0.96710617, 0.03289383],\n",
       "       [0.88004481, 0.11995519]])"
      ]
     },
     "execution_count": 253,
     "metadata": {},
     "output_type": "execute_result"
    }
   ],
   "source": [
    "# Predict the probabilities\n",
    "y_prob = logreg.predict_proba(cs_test[X_test])\n",
    "y_prob"
   ]
  },
  {
   "cell_type": "code",
   "execution_count": 254,
   "metadata": {},
   "outputs": [
    {
     "data": {
      "text/plain": [
       "array([0.07689569, 0.04533188, 0.0422847 , ..., 0.02341723, 0.03289383,\n",
       "       0.11995519])"
      ]
     },
     "execution_count": 254,
     "metadata": {},
     "output_type": "execute_result"
    }
   ],
   "source": [
    "# Add a new column with the probability of being SeriousDlqin2yrs=Yes(1)\n",
    "Probability = y_prob[:,1]\n",
    "Probability"
   ]
  },
  {
   "cell_type": "code",
   "execution_count": 255,
   "metadata": {},
   "outputs": [],
   "source": [
    "cs_test['Probability'] = Probability"
   ]
  },
  {
   "cell_type": "code",
   "execution_count": 256,
   "metadata": {},
   "outputs": [
    {
     "data": {
      "text/html": [
       "<div>\n",
       "<style scoped>\n",
       "    .dataframe tbody tr th:only-of-type {\n",
       "        vertical-align: middle;\n",
       "    }\n",
       "\n",
       "    .dataframe tbody tr th {\n",
       "        vertical-align: top;\n",
       "    }\n",
       "\n",
       "    .dataframe thead th {\n",
       "        text-align: right;\n",
       "    }\n",
       "</style>\n",
       "<table border=\"1\" class=\"dataframe\">\n",
       "  <thead>\n",
       "    <tr style=\"text-align: right;\">\n",
       "      <th></th>\n",
       "      <th>Id</th>\n",
       "      <th>Probability</th>\n",
       "    </tr>\n",
       "  </thead>\n",
       "  <tbody>\n",
       "    <tr>\n",
       "      <th>0</th>\n",
       "      <td>1</td>\n",
       "      <td>0.076896</td>\n",
       "    </tr>\n",
       "    <tr>\n",
       "      <th>1</th>\n",
       "      <td>2</td>\n",
       "      <td>0.045332</td>\n",
       "    </tr>\n",
       "    <tr>\n",
       "      <th>2</th>\n",
       "      <td>3</td>\n",
       "      <td>0.042285</td>\n",
       "    </tr>\n",
       "    <tr>\n",
       "      <th>3</th>\n",
       "      <td>4</td>\n",
       "      <td>0.157541</td>\n",
       "    </tr>\n",
       "    <tr>\n",
       "      <th>4</th>\n",
       "      <td>5</td>\n",
       "      <td>0.165653</td>\n",
       "    </tr>\n",
       "  </tbody>\n",
       "</table>\n",
       "</div>"
      ],
      "text/plain": [
       "   Id  Probability\n",
       "0   1     0.076896\n",
       "1   2     0.045332\n",
       "2   3     0.042285\n",
       "3   4     0.157541\n",
       "4   5     0.165653"
      ]
     },
     "execution_count": 256,
     "metadata": {},
     "output_type": "execute_result"
    }
   ],
   "source": [
    "cs_test[['Id','Probability']].head()"
   ]
  },
  {
   "cell_type": "code",
   "execution_count": 237,
   "metadata": {},
   "outputs": [],
   "source": [
    "# write the results to csv\n",
    "cs_test[['Id','Probability']].to_csv('cs_test_predicted_model1.csv',index=False)"
   ]
  },
  {
   "cell_type": "code",
   "execution_count": 260,
   "metadata": {},
   "outputs": [
    {
     "data": {
      "text/html": [
       "<div>\n",
       "<style scoped>\n",
       "    .dataframe tbody tr th:only-of-type {\n",
       "        vertical-align: middle;\n",
       "    }\n",
       "\n",
       "    .dataframe tbody tr th {\n",
       "        vertical-align: top;\n",
       "    }\n",
       "\n",
       "    .dataframe thead th {\n",
       "        text-align: right;\n",
       "    }\n",
       "</style>\n",
       "<table border=\"1\" class=\"dataframe\">\n",
       "  <thead>\n",
       "    <tr style=\"text-align: right;\">\n",
       "      <th></th>\n",
       "      <th>Id</th>\n",
       "      <th>Probability</th>\n",
       "      <th>y_test</th>\n",
       "    </tr>\n",
       "  </thead>\n",
       "  <tbody>\n",
       "    <tr>\n",
       "      <th>0</th>\n",
       "      <td>1</td>\n",
       "      <td>0.080807</td>\n",
       "      <td>0</td>\n",
       "    </tr>\n",
       "    <tr>\n",
       "      <th>1</th>\n",
       "      <td>2</td>\n",
       "      <td>0.040719</td>\n",
       "      <td>0</td>\n",
       "    </tr>\n",
       "    <tr>\n",
       "      <th>2</th>\n",
       "      <td>3</td>\n",
       "      <td>0.011968</td>\n",
       "      <td>0</td>\n",
       "    </tr>\n",
       "    <tr>\n",
       "      <th>3</th>\n",
       "      <td>4</td>\n",
       "      <td>0.067640</td>\n",
       "      <td>0</td>\n",
       "    </tr>\n",
       "    <tr>\n",
       "      <th>4</th>\n",
       "      <td>5</td>\n",
       "      <td>0.108264</td>\n",
       "      <td>0</td>\n",
       "    </tr>\n",
       "  </tbody>\n",
       "</table>\n",
       "</div>"
      ],
      "text/plain": [
       "   Id  Probability  y_test\n",
       "0   1     0.080807       0\n",
       "1   2     0.040719       0\n",
       "2   3     0.011968       0\n",
       "3   4     0.067640       0\n",
       "4   5     0.108264       0"
      ]
     },
     "execution_count": 260,
     "metadata": {},
     "output_type": "execute_result"
    }
   ],
   "source": [
    "# Load the test result data\n",
    "result_test = pd.read_csv( 'sampleEntry.csv' )\n",
    "result_test['y_test']=[1 if i>0.5 else 0 for i in result_test['Probability']]\n",
    "result_test.head()"
   ]
  },
  {
   "cell_type": "code",
   "execution_count": 262,
   "metadata": {},
   "outputs": [
    {
     "name": "stdout",
     "output_type": "stream",
     "text": [
      "Accuracy of logistic regression classifier on test set: 0.98\n"
     ]
    }
   ],
   "source": [
    "print('Accuracy of logistic regression classifier on test set: {:.2f}'.format(logreg.score(cs_test[X_test], result_test['y_test'])))"
   ]
  },
  {
   "cell_type": "code",
   "execution_count": 263,
   "metadata": {},
   "outputs": [
    {
     "name": "stdout",
     "output_type": "stream",
     "text": [
      "[[99700    98]\n",
      " [ 1590   115]]\n"
     ]
    }
   ],
   "source": [
    "# Confusion Matrix\n",
    "from sklearn.metrics import confusion_matrix\n",
    "confusion_matrix = confusion_matrix(result_test['y_test'], cs_test[y_test])\n",
    "print(confusion_matrix)"
   ]
  },
  {
   "cell_type": "markdown",
   "metadata": {},
   "source": [
    "The result is telling us that we have 99700+115 correct predictions and 1590+98 incorrect predictions."
   ]
  },
  {
   "cell_type": "code",
   "execution_count": 264,
   "metadata": {},
   "outputs": [
    {
     "name": "stdout",
     "output_type": "stream",
     "text": [
      "             precision    recall  f1-score   support\n",
      "\n",
      "          0       0.98      1.00      0.99     99798\n",
      "          1       0.54      0.07      0.12      1705\n",
      "\n",
      "avg / total       0.98      0.98      0.98    101503\n",
      "\n"
     ]
    }
   ],
   "source": [
    "# precision = tp / (tp + fp)\n",
    "# recall = tp / (tp + fn)\n",
    "# F1-score = weighted harmonic mean of the precision and recall\n",
    "from sklearn.metrics import classification_report\n",
    "print(classification_report(result_test['y_test'], cs_test[y_test]))"
   ]
  },
  {
   "cell_type": "code",
   "execution_count": 265,
   "metadata": {},
   "outputs": [
    {
     "data": {
      "text/plain": [
       "<matplotlib.legend.Legend at 0x1a1f1258d0>"
      ]
     },
     "execution_count": 265,
     "metadata": {},
     "output_type": "execute_result"
    },
    {
     "data": {
      "image/png": "[encoded data removed]",
      "text/plain": [
       "<matplotlib.figure.Figure at 0x1c2881b828>"
      ]
     },
     "metadata": {},
     "output_type": "display_data"
    }
   ],
   "source": [
    "from sklearn.metrics import roc_auc_score\n",
    "from sklearn.metrics import roc_curve\n",
    "logit_roc_auc = roc_auc_score(result_test['y_test'], logreg.predict(cs_test[X_test]))\n",
    "fpr, tpr, thresholds = roc_curve(result_test['y_test'], logreg.predict_proba(cs_test[X_test])[:,1])\n",
    "plt.figure()\n",
    "plt.plot(fpr, tpr, label='Logistic Regression (area = %0.2f)' % logit_roc_auc)\n",
    "plt.plot([0, 1], [0, 1],'r--')\n",
    "plt.xlim([0.0, 1.0])\n",
    "plt.ylim([0.0, 1.05])\n",
    "plt.xlabel('False Positive Rate')\n",
    "plt.ylabel('True Positive Rate')\n",
    "plt.title('Receiver operating characteristic')\n",
    "plt.legend(loc=\"lower right\")"
   ]
  },
  {
   "cell_type": "markdown",
   "metadata": {},
   "source": [
    "## Cross Validation"
   ]
  },
  {
   "cell_type": "code",
   "execution_count": 266,
   "metadata": {},
   "outputs": [
    {
     "name": "stdout",
     "output_type": "stream",
     "text": [
      "10-fold cross validation average accuracy: 0.934\n"
     ]
    }
   ],
   "source": [
    "from sklearn import model_selection\n",
    "from sklearn.model_selection import cross_val_score\n",
    "kfold = model_selection.KFold(n_splits=10, random_state=7)\n",
    "modelCV = LogisticRegression()\n",
    "scoring = 'accuracy'\n",
    "results = model_selection.cross_val_score(modelCV, cs_train[X], cs_train[y].values.ravel(), cv=kfold, scoring=scoring)\n",
    "print(\"10-fold cross validation average accuracy: %.3f\" % (results.mean()))"
   ]
  },
  {
   "cell_type": "markdown",
   "metadata": {},
   "source": [
    "The average accuracy (93.4%) is lower than the Logistic Regression model accuracy (98%)."
   ]
  },
  {
   "cell_type": "markdown",
   "metadata": {},
   "source": [
    "# Re-model with feature selection"
   ]
  },
  {
   "cell_type": "code",
   "execution_count": 267,
   "metadata": {},
   "outputs": [],
   "source": [
    "y=['SeriousDlqin2yrs']\n",
    "# Exclude 'RevolvingUtilizationOfUnsecuredLines','DebtRatio'\n",
    "X=['age','NumberOfTime30-59DaysPastDueNotWorse',\n",
    "  'MonthlyIncome','NumberOfOpenCreditLinesAndLoans','NumberOfTimes90DaysLate','NumberRealEstateLoansOrLines',\n",
    "  'NumberOfTime60-89DaysPastDueNotWorse','NumberOfDependents']"
   ]
  },
  {
   "cell_type": "code",
   "execution_count": 268,
   "metadata": {},
   "outputs": [
    {
     "data": {
      "text/plain": [
       "LogisticRegression(C=1.0, class_weight=None, dual=False, fit_intercept=True,\n",
       "          intercept_scaling=1, max_iter=100, multi_class='ovr', n_jobs=1,\n",
       "          penalty='l2', random_state=None, solver='liblinear', tol=0.0001,\n",
       "          verbose=0, warm_start=False)"
      ]
     },
     "execution_count": 268,
     "metadata": {},
     "output_type": "execute_result"
    }
   ],
   "source": [
    "logreg2 = LogisticRegression()\n",
    "logreg2.fit(cs_train[X], cs_train[y].values.ravel())"
   ]
  },
  {
   "cell_type": "code",
   "execution_count": 269,
   "metadata": {},
   "outputs": [],
   "source": [
    "y_pred = logreg2.predict(cs_test[X])\n",
    "cs_test.SeriousDlqin2yrs = y_pred"
   ]
  },
  {
   "cell_type": "code",
   "execution_count": 271,
   "metadata": {},
   "outputs": [
    {
     "data": {
      "text/plain": [
       "0    101016\n",
       "1       487\n",
       "Name: SeriousDlqin2yrs, dtype: int64"
      ]
     },
     "execution_count": 271,
     "metadata": {},
     "output_type": "execute_result"
    }
   ],
   "source": [
    "cs_test.SeriousDlqin2yrs.value_counts()"
   ]
  },
  {
   "cell_type": "code",
   "execution_count": 273,
   "metadata": {},
   "outputs": [],
   "source": [
    "# Predict the probabilities\n",
    "y_prob = logreg2.predict_proba(cs_test[X])\n",
    "# Add a new column with the probability of being SeriousDlqin2yrs=Yes(1)\n",
    "Probability = y_prob[:,1]\n",
    "cs_test['Probability'] = Probability"
   ]
  },
  {
   "cell_type": "code",
   "execution_count": 274,
   "metadata": {},
   "outputs": [
    {
     "data": {
      "text/html": [
       "<div>\n",
       "<style scoped>\n",
       "    .dataframe tbody tr th:only-of-type {\n",
       "        vertical-align: middle;\n",
       "    }\n",
       "\n",
       "    .dataframe tbody tr th {\n",
       "        vertical-align: top;\n",
       "    }\n",
       "\n",
       "    .dataframe thead th {\n",
       "        text-align: right;\n",
       "    }\n",
       "</style>\n",
       "<table border=\"1\" class=\"dataframe\">\n",
       "  <thead>\n",
       "    <tr style=\"text-align: right;\">\n",
       "      <th></th>\n",
       "      <th>Id</th>\n",
       "      <th>SeriousDlqin2yrs</th>\n",
       "      <th>RevolvingUtilizationOfUnsecuredLines</th>\n",
       "      <th>age</th>\n",
       "      <th>NumberOfTime30-59DaysPastDueNotWorse</th>\n",
       "      <th>DebtRatio</th>\n",
       "      <th>MonthlyIncome</th>\n",
       "      <th>NumberOfOpenCreditLinesAndLoans</th>\n",
       "      <th>NumberOfTimes90DaysLate</th>\n",
       "      <th>NumberRealEstateLoansOrLines</th>\n",
       "      <th>NumberOfTime60-89DaysPastDueNotWorse</th>\n",
       "      <th>NumberOfDependents</th>\n",
       "      <th>Probability</th>\n",
       "    </tr>\n",
       "  </thead>\n",
       "  <tbody>\n",
       "    <tr>\n",
       "      <th>0</th>\n",
       "      <td>1</td>\n",
       "      <td>0</td>\n",
       "      <td>0.885519</td>\n",
       "      <td>43</td>\n",
       "      <td>0</td>\n",
       "      <td>0.177513</td>\n",
       "      <td>5700.0</td>\n",
       "      <td>4</td>\n",
       "      <td>0</td>\n",
       "      <td>0</td>\n",
       "      <td>0</td>\n",
       "      <td>0.0</td>\n",
       "      <td>0.061011</td>\n",
       "    </tr>\n",
       "    <tr>\n",
       "      <th>1</th>\n",
       "      <td>2</td>\n",
       "      <td>0</td>\n",
       "      <td>0.463295</td>\n",
       "      <td>57</td>\n",
       "      <td>0</td>\n",
       "      <td>0.527237</td>\n",
       "      <td>9141.0</td>\n",
       "      <td>15</td>\n",
       "      <td>0</td>\n",
       "      <td>4</td>\n",
       "      <td>0</td>\n",
       "      <td>2.0</td>\n",
       "      <td>0.048145</td>\n",
       "    </tr>\n",
       "    <tr>\n",
       "      <th>2</th>\n",
       "      <td>3</td>\n",
       "      <td>0</td>\n",
       "      <td>0.043275</td>\n",
       "      <td>59</td>\n",
       "      <td>0</td>\n",
       "      <td>0.687648</td>\n",
       "      <td>5083.0</td>\n",
       "      <td>12</td>\n",
       "      <td>0</td>\n",
       "      <td>1</td>\n",
       "      <td>0</td>\n",
       "      <td>2.0</td>\n",
       "      <td>0.046711</td>\n",
       "    </tr>\n",
       "    <tr>\n",
       "      <th>3</th>\n",
       "      <td>4</td>\n",
       "      <td>0</td>\n",
       "      <td>0.280308</td>\n",
       "      <td>38</td>\n",
       "      <td>1</td>\n",
       "      <td>0.925961</td>\n",
       "      <td>3200.0</td>\n",
       "      <td>7</td>\n",
       "      <td>0</td>\n",
       "      <td>2</td>\n",
       "      <td>0</td>\n",
       "      <td>0.0</td>\n",
       "      <td>0.124866</td>\n",
       "    </tr>\n",
       "    <tr>\n",
       "      <th>4</th>\n",
       "      <td>5</td>\n",
       "      <td>0</td>\n",
       "      <td>1.000000</td>\n",
       "      <td>27</td>\n",
       "      <td>0</td>\n",
       "      <td>0.019917</td>\n",
       "      <td>3865.0</td>\n",
       "      <td>4</td>\n",
       "      <td>0</td>\n",
       "      <td>0</td>\n",
       "      <td>0</td>\n",
       "      <td>1.0</td>\n",
       "      <td>0.108748</td>\n",
       "    </tr>\n",
       "  </tbody>\n",
       "</table>\n",
       "</div>"
      ],
      "text/plain": [
       "   Id  SeriousDlqin2yrs  RevolvingUtilizationOfUnsecuredLines  age  \\\n",
       "0   1                 0                              0.885519   43   \n",
       "1   2                 0                              0.463295   57   \n",
       "2   3                 0                              0.043275   59   \n",
       "3   4                 0                              0.280308   38   \n",
       "4   5                 0                              1.000000   27   \n",
       "\n",
       "   NumberOfTime30-59DaysPastDueNotWorse  DebtRatio  MonthlyIncome  \\\n",
       "0                                     0   0.177513         5700.0   \n",
       "1                                     0   0.527237         9141.0   \n",
       "2                                     0   0.687648         5083.0   \n",
       "3                                     1   0.925961         3200.0   \n",
       "4                                     0   0.019917         3865.0   \n",
       "\n",
       "   NumberOfOpenCreditLinesAndLoans  NumberOfTimes90DaysLate  \\\n",
       "0                                4                        0   \n",
       "1                               15                        0   \n",
       "2                               12                        0   \n",
       "3                                7                        0   \n",
       "4                                4                        0   \n",
       "\n",
       "   NumberRealEstateLoansOrLines  NumberOfTime60-89DaysPastDueNotWorse  \\\n",
       "0                             0                                     0   \n",
       "1                             4                                     0   \n",
       "2                             1                                     0   \n",
       "3                             2                                     0   \n",
       "4                             0                                     0   \n",
       "\n",
       "   NumberOfDependents  Probability  \n",
       "0                 0.0     0.061011  \n",
       "1                 2.0     0.048145  \n",
       "2                 2.0     0.046711  \n",
       "3                 0.0     0.124866  \n",
       "4                 1.0     0.108748  "
      ]
     },
     "execution_count": 274,
     "metadata": {},
     "output_type": "execute_result"
    }
   ],
   "source": [
    "cs_test.head()"
   ]
  },
  {
   "cell_type": "code",
   "execution_count": 275,
   "metadata": {},
   "outputs": [
    {
     "data": {
      "text/html": [
       "<div>\n",
       "<style scoped>\n",
       "    .dataframe tbody tr th:only-of-type {\n",
       "        vertical-align: middle;\n",
       "    }\n",
       "\n",
       "    .dataframe tbody tr th {\n",
       "        vertical-align: top;\n",
       "    }\n",
       "\n",
       "    .dataframe thead th {\n",
       "        text-align: right;\n",
       "    }\n",
       "</style>\n",
       "<table border=\"1\" class=\"dataframe\">\n",
       "  <thead>\n",
       "    <tr style=\"text-align: right;\">\n",
       "      <th></th>\n",
       "      <th>Id</th>\n",
       "      <th>Probability</th>\n",
       "    </tr>\n",
       "  </thead>\n",
       "  <tbody>\n",
       "    <tr>\n",
       "      <th>0</th>\n",
       "      <td>1</td>\n",
       "      <td>0.061011</td>\n",
       "    </tr>\n",
       "    <tr>\n",
       "      <th>1</th>\n",
       "      <td>2</td>\n",
       "      <td>0.048145</td>\n",
       "    </tr>\n",
       "    <tr>\n",
       "      <th>2</th>\n",
       "      <td>3</td>\n",
       "      <td>0.046711</td>\n",
       "    </tr>\n",
       "    <tr>\n",
       "      <th>3</th>\n",
       "      <td>4</td>\n",
       "      <td>0.124866</td>\n",
       "    </tr>\n",
       "    <tr>\n",
       "      <th>4</th>\n",
       "      <td>5</td>\n",
       "      <td>0.108748</td>\n",
       "    </tr>\n",
       "  </tbody>\n",
       "</table>\n",
       "</div>"
      ],
      "text/plain": [
       "   Id  Probability\n",
       "0   1     0.061011\n",
       "1   2     0.048145\n",
       "2   3     0.046711\n",
       "3   4     0.124866\n",
       "4   5     0.108748"
      ]
     },
     "execution_count": 275,
     "metadata": {},
     "output_type": "execute_result"
    }
   ],
   "source": [
    "cs_test[['Id','Probability']].head()"
   ]
  },
  {
   "cell_type": "code",
   "execution_count": 276,
   "metadata": {},
   "outputs": [],
   "source": [
    "# write the results to csv\n",
    "cs_test[['Id','Probability']].to_csv('cs_test_predicted_model2.csv',index=False)"
   ]
  },
  {
   "cell_type": "code",
   "execution_count": 277,
   "metadata": {},
   "outputs": [
    {
     "name": "stdout",
     "output_type": "stream",
     "text": [
      "Accuracy of logistic regression classifier on test set: 0.98\n"
     ]
    }
   ],
   "source": [
    "print('Accuracy of logistic regression classifier on test set: {:.2f}'.format(logreg2.score(cs_test[X], result_test['y_test'])))"
   ]
  },
  {
   "cell_type": "code",
   "execution_count": 284,
   "metadata": {},
   "outputs": [
    {
     "name": "stdout",
     "output_type": "stream",
     "text": [
      "[[99610   188]\n",
      " [ 1406   299]]\n"
     ]
    }
   ],
   "source": [
    "# Confusion Matrix\n",
    "from sklearn.metrics import confusion_matrix\n",
    "confusion_matrix = confusion_matrix(result_test['y_test'], cs_test[y])\n",
    "print(confusion_matrix)"
   ]
  },
  {
   "cell_type": "markdown",
   "metadata": {},
   "source": [
    "The result is telling us that we have 99610+299 correct predictions and 1406+188 incorrect predictions."
   ]
  },
  {
   "cell_type": "code",
   "execution_count": 285,
   "metadata": {},
   "outputs": [
    {
     "name": "stdout",
     "output_type": "stream",
     "text": [
      "             precision    recall  f1-score   support\n",
      "\n",
      "          0       0.99      1.00      0.99     99798\n",
      "          1       0.61      0.18      0.27      1705\n",
      "\n",
      "avg / total       0.98      0.98      0.98    101503\n",
      "\n"
     ]
    }
   ],
   "source": [
    "# precision = tp / (tp + fp)\n",
    "# recall = tp / (tp + fn)\n",
    "# F1-score = weighted harmonic mean of the precision and recall\n",
    "from sklearn.metrics import classification_report\n",
    "print(classification_report(result_test['y_test'], cs_test[y]))"
   ]
  },
  {
   "cell_type": "code",
   "execution_count": 287,
   "metadata": {},
   "outputs": [
    {
     "data": {
      "text/plain": [
       "<matplotlib.legend.Legend at 0x1a253156a0>"
      ]
     },
     "execution_count": 287,
     "metadata": {},
     "output_type": "execute_result"
    },
    {
     "data": {
      "image/png": "[encoded data removed]",
      "text/plain": [
       "<matplotlib.figure.Figure at 0x1c2f8c37f0>"
      ]
     },
     "metadata": {},
     "output_type": "display_data"
    }
   ],
   "source": [
    "from sklearn.metrics import roc_auc_score\n",
    "from sklearn.metrics import roc_curve\n",
    "logit_roc_auc = roc_auc_score(result_test['y_test'], logreg2.predict(cs_test[X]))\n",
    "fpr, tpr, thresholds = roc_curve(result_test['y_test'], logreg2.predict_proba(cs_test[X])[:,1])\n",
    "plt.figure()\n",
    "plt.plot(fpr, tpr, label='Logistic Regression (area = %0.2f)' % logit_roc_auc)\n",
    "plt.plot([0, 1], [0, 1],'r--')\n",
    "plt.xlim([0.0, 1.0])\n",
    "plt.ylim([0.0, 1.05])\n",
    "plt.xlabel('False Positive Rate')\n",
    "plt.ylabel('True Positive Rate')\n",
    "plt.title('Receiver operating characteristic')\n",
    "plt.legend(loc=\"lower right\")"
   ]
  },
  {
   "cell_type": "code",
   "execution_count": 288,
   "metadata": {},
   "outputs": [
    {
     "name": "stdout",
     "output_type": "stream",
     "text": [
      "10-fold cross validation average accuracy: 0.934\n"
     ]
    }
   ],
   "source": [
    "kfold = model_selection.KFold(n_splits=10, random_state=7)\n",
    "modelCV = LogisticRegression()\n",
    "scoring = 'accuracy'\n",
    "results = model_selection.cross_val_score(modelCV, cs_train[X], cs_train[y].values.ravel(), cv=kfold, scoring=scoring)\n",
    "print(\"10-fold cross validation average accuracy: %.3f\" % (results.mean()))"
   ]
  },
  {
   "cell_type": "markdown",
   "metadata": {},
   "source": [
    "## With all features we got:\n",
    "0  :  101290\n",
    "\n",
    "1  :    213\n",
    "\n",
    "## With few features excluded we got:\n",
    "0  :  101016\n",
    "\n",
    "1  :    487"
   ]
  }
 ],
 "metadata": {
  "kernelspec": {
   "display_name": "Python 3",
   "language": "python",
   "name": "python3"
  },
  "language_info": {
   "codemirror_mode": {
    "name": "ipython",
    "version": 3
   },
   "file_extension": ".py",
   "mimetype": "text/x-python",
   "name": "python",
   "nbconvert_exporter": "python",
   "pygments_lexer": "ipython3",
   "version": "3.6.4"
  }
 },
 "nbformat": 4,
 "nbformat_minor": 2
}
